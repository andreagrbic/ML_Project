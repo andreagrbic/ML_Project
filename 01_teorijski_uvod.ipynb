{
 "cells": [
  {
   "cell_type": "markdown",
   "id": "286dc133",
   "metadata": {},
   "source": [
    "## <center> 🎶Probabilistička matrična faktorizacija za sisteme preporuke u oblasti muzike"
   ]
  },
  {
   "cell_type": "markdown",
   "id": "5762d04a",
   "metadata": {},
   "source": [
    "<div style=\"text-align: justify\"> Sa razvojem interneta kao medija za elektronske i poslovne transakcije, u mašinskom učenju se javila posebna grana otkrivanja zakonitosti u podacima koja se naziva <em> sistemi preporuka</em>. \n",
    "Korišćenjem sistema muzičkih preporuka, muzičke platforme mogu da predvide, a zatim ponude\n",
    "odgovarajuće izvođače i pjesme svojim korisnicima na osnovu svojstava muzike koju su sami korisnici prethodno slušali.\n",
    "Mogućnost efikasnog pružanja personalizovanih muzičkih preporuka je od suštinskog značaja za konkurentnost bilo koje muzičke platforme. Sistemi preporuka u muzičkoj industriji omogućuju povećanje zadovoljstva korisnika muzičke platforme, kao i kreiranje maksimalno personalizovane platforme. \n",
    "Kolaborativno filtriranje je primjer efektivne implementacije sistema preporuka. Međutim, kolaborativno filtriranje ima ograničenu primjenu ukoliko se radi sa prorijeđenim i neizbalansiranim podacima, što je česta pojava u kontekstu sistema preporuke u oblasti muzike. </div>\n"
   ]
  },
  {
   "cell_type": "markdown",
   "id": "d3a694d3",
   "metadata": {},
   "source": [
    "### Postavka problema"
   ]
  },
  {
   "cell_type": "markdown",
   "id": "05753d45",
   "metadata": {},
   "source": [
    "<div style=\"text-align: justify\"> Data je matrica <em> R</em>  dimenzije  <em>N x M </em>sa nedostajućim poljima koje je potrebno popuniti tako da budu u skladu sa postojećim podacima. U našem slučaju, matrica <em>R</em> je matrica rejtinga koji su korisnici (njih <em>N</em>) dodijelili izvođačima (njih <em>M</em>). Na velikim muzičkim platformama postoji mnogo izvođača i očekivano je da neće svaki korisnik slušati i ocjenjivati svakog izvođača. Stoga, možemo očekivati da će matrica <em>R</em> imati mnogo praznih polja. U metodama dopunjavanja nedostajućih vrijednosti matrice izdvajaju se algoritmi faktorizacije kao veoma uspješni i popularni. U ovim algoritmima, svaki red i kolona matrice imaju po latentni vektor dobijen faktorizacijom djelimično popunjene matrice. Predviđanje svakog praznog polja matrice je skalarni proizvod latentnih vektora odgovarajućih vrsta i kolona. Međutim, ove metode se susreću sa čestim problemom prorijeđenosti  skupova podataka. Poznat je podatak da je gustina dostupnih rejtinga u većini komercijanih sistema preporuke manja od 1%. Stoga, veoma je teško uraditi predviđanje nedostajuće vrijednosti na osnovu tako prorijeđenog skupa podataka. Takođe, sa većinom klasičnih tehnika faktorizacije nije moguće u model ugraditi često dostupne dodatne informacije koje mogu biti od ključnog značaja za model, npr. društvenu mrežu korisnika na muzičkoj platformi. \n",
    "</div>"
   ]
  },
  {
   "cell_type": "markdown",
   "id": "831b7e83",
   "metadata": {},
   "source": [
    "<div style=\"text-align: justify\"> Probabilistička matrična faktorizacija (<em>eng. Probabilistic Matrix Factorization</em>), \n",
    "u nastavku PMF, se pokazala kao fleksibilan i efektivan okvir za rješavanje problema faktorizacije u slučaju velikih i prorijeđenih skupova podataka. Naknadno su razvijeni mnogi modeli koji su zasnovani na baznom PMF modelu. Specijalno, metoda Kernelizovane probabilističke matrične faktorizacije (<em>eng. Kernelized Probabilistic Matrix Factorization</em>), u nastavku KPMF, koju implementiramo u projektu, omogućuje uključivanje dodatnih informacija u model kroz kernelizovane matrice. \n",
    "Druga metoda koju implementiramo jeste ograničena probabilistička kernelizovana matrična faktorizacija (<em>eng. Constrained Kernelized Probabilistic Matrix Factorization</em>), u nastavku cKPMF, koja takođe omogućuje uključivanje dodatnih informacija u model i predstavlja modifikaciju metode cPMF (<em>eng. Constrained Probabilistic Matrix Factorization</em>).\n",
    "Detaljnije o svim navedenim metodama i dodatnim informacijama koje koriste biće riječi u nastavku. Prvo uvodimo oznake koje se nadalje koriste.\n",
    "</div>"
   ]
  },
  {
   "cell_type": "markdown",
   "id": "62ced814",
   "metadata": {},
   "source": [
    "#### Korišćene oznake"
   ]
  },
  {
   "cell_type": "markdown",
   "id": "e35ec4a9",
   "metadata": {},
   "source": [
    "$R$ - *N x M* matrica rejtinga  \n",
    "$N$ - broj korisnika (redovi matrice *R*) <br>\n",
    "$M$ - broj izvođača <br>\n",
    "$D$ - dimenzija latentnih faktora (vektora) <br>\n",
    "$U$ - *N x D* latentna matrica redova matrice *R* <br>\n",
    "$V$ - *M x D* latentna matrica kolona matrice *R* <br>\n",
    "$W$ - *M x D* pomoćna latentna matrica <br>\n",
    "$Y$ - *N x D* pomoćna latentna matica <br>\n",
    "$R_{n, :}$- n - ti red matrice *R* <br>\n",
    "$R_{:, m}$ - m - ta kolona matrice *R* <br>\n",
    "$U_{n,:} \\in\\mathbb{R}{^D}$ - latentni faktori za *R<sub>n,:</sub>* <br>\n",
    "$V_{m,:}\\in\\mathbb{R}{^D}$ - latentni faktori za *R<sub>:,m </sub>* <br>\n",
    "$U_{:,d}\\in\\mathbb{R}{^N}$ - d - ti latentni faktor za sve redove matrice *R* <br>\n",
    "$V_{:,d}\\in\\mathbb{R}{^M}$ - d - ti latentni faktor za sve kolone matrice *R* <br>\n",
    "$K_{U,:}\\in\\mathbb{R}{^{NxN}}$ - kovarijaciona matrica redova <br>\n",
    "$K_{V,:}\\in\\mathbb{R}{^{MxM}}$ - kovarijaciona matrica kolona <br>\n",
    "$S_{U,:}$ - inverz matrice *K<sub>U</sub>* <br>\n",
    "$S_{V,:}$ - inverz matrice *K<sub>V</sub>* <br>\n",
    "$I\\in\\mathbb{R}{^{NxM}}$ - indikatorska matrica koja uzima vrijednost 1 ako je polje *R<sub>i,j</sub>* popunjeno, u suprotnom 0 <br>\n",
    "$\\alpha$ - stopa učenja\n"
   ]
  },
  {
   "cell_type": "markdown",
   "id": "7900b310",
   "metadata": {},
   "source": [
    "### PMF"
   ]
  },
  {
   "cell_type": "markdown",
   "id": "a0929b14",
   "metadata": {},
   "source": [
    "<div style=\"text-align: justify\"> Probabilistička matrična faktorizacija je generativni algoritam koji ima za cilj da faktoriše matricu <em> R</em> na matrice  <em>U</em>  i <em>V</em>. Uz pretpostavku da imamo dve latentne matrice <em>U<sub>N x D</sub></em> i <em>V<sub>M x D</sub></em>, gdje <em>U</em> i <em>V</em> sadrže informacije o latentnim faktorima redova i kolona matrice <em> R</em> redom, algoritam probabilističke matrične faktorizacije je sledeći (vidjeti sliku 2(a)):  </div> "
   ]
  },
  {
   "cell_type": "markdown",
   "id": "205fc64a",
   "metadata": {},
   "source": [
    "1.  Generisati $U_{i,:} \\sim \\mathcal{N}\\left(0,\\,\\sigma^{2}_UI\\right)$ za sve  $ i \\in \\{1, 2, \\dots, N\\}$,  \n",
    "2.  Generisati $V_{j,:} \\sim \\mathcal{N}\\left(0,\\,\\sigma^{2}_VI\\right)$ za sve $j \\in \\{1, 2, \\dots, M\\}$,\n",
    "3.  Za svako popunjeno polje $R_{i,j}$, generisati $R_{i,j} \\sim \\mathcal{N}\\left(U_{i,:}V_{j,:}^T,\\,\\sigma^{2}\\right)$."
   ]
  },
  {
   "cell_type": "markdown",
   "id": "fdc1c43e",
   "metadata": {},
   "source": [
    "U ovom modelu imamo sledeće pretpostavke o nezavisnosti: \n",
    "* Međusobna nezavisnost matrica *U* i *V*,\n",
    "* Međusobna nezavisnost korisnika (redova matrice *U*),\n",
    "* Međusobna nezavisnost izvođača (redova matrice *V*),\n",
    "* Međusobna nezavisnost rejtinga."
   ]
  },
  {
   "cell_type": "markdown",
   "id": "e9f87af4",
   "metadata": {},
   "source": [
    "<div style=\"text-align: justify\"> Model pretpostavlja višedimenzionu apriornu normalnu raspodjelu za $U_{i,:}$, $i \\in \\{1, 2, \\dots, N\\}$  i $V_{j,:}$, $j \\in \\{1, 2, \\dots, M\\}$, a svaki element $R_{i,j}$ ima jednodimenzionu normalnu raspodjelu sa očekivanjem koje je određeno skalarnim proizvodom matrica <em>U</em> i <em>V</em>. Log-posteriorna raspodjela matrica <em>U</em> i <em>V</em> je data sa:\n",
    "$$\n",
    "\\log{p\\left(U, V| R, \\sigma^{2},\\sigma^{2}_U, \\sigma^{2}_V\\right)} = \\log{p\\left(R|U, V, \\sigma^{2}\\right)} + \\log {p\\left(U | \\sigma^{2}_U\\right)} + \\log {p\\left(V |\\sigma^{2}_V\\right)} + C,\n",
    "\\label{eq:vector_ray} \\tag{1}\n",
    "$$ <br /> gdje je $C$ konstanta koja ne zavisi od <em>U</em> i <em>V</em>. Koristimo maksimalnu aposteriornu ocjenu (MAP) za <em>U</em> i <em>V</em> koja maksimizuje (1) stohastičkim gradijentnim spustom. Za svaki element $R_{i,j}$, algoritam ažuriranja parametara modela je sledeći: </div>"
   ]
  },
  {
   "cell_type": "markdown",
   "id": "a5b0ffdb",
   "metadata": {},
   "source": [
    "<div style=\"text-align: justify\">\n",
    "$$\n",
    "err_{i,j} = R_{i,j} - U_{i,:}V_{j,:}^T, \n",
    "\\tag{2}\n",
    "$$\n",
    "</div>"
   ]
  },
  {
   "cell_type": "markdown",
   "id": "2290fd9a",
   "metadata": {},
   "source": [
    "$$U_{i,:} := U_{i,:} + \\alpha\\left(err_{i,j}V_{j,:} - \\frac{\\sigma^2}{\\sigma^{2}_U\\sum_{p=1}^{M}I_{i,p}}U_{i,:}\\right),$$"
   ]
  },
  {
   "cell_type": "markdown",
   "id": "6f5e4bea",
   "metadata": {},
   "source": [
    "$$V_{j,:} := V_{j,:} + \\alpha\\left(err_{i,j}U_{i,:} - \\frac{\\sigma^2}{\\sigma^{2}_V\\sum_{p=1}^{N}I_{p,j}}V_{j,:}\\right).$$"
   ]
  },
  {
   "cell_type": "markdown",
   "id": "18bee090",
   "metadata": {},
   "source": [
    "### KPMF"
   ]
  },
  {
   "cell_type": "markdown",
   "id": "b0369941",
   "metadata": {},
   "source": [
    "<div style=\"text-align: justify\"> Da bismo prevazišli prethodno pomenute probleme neizbalansiranosti podataka i nemogućnosti korišćenja dodatnih informacija u modelu, uvodimo novu metodu faktorizacije matrice <em> R</em> - kernelizovanu probabilističku faktorizaciju matrice. Podsjetimo se da smo u PMF modelu pretpostavili nezavisnost redova matrica <em> U</em> i <em>V</em> i da su ulazni podaci bili dati samo preko matrice rejtinga <em> R</em>. KPMF omogućuje da u model ugradimo kovarijaciju između bilo koja dva reda matrica <em> U</em> i <em> V</em> ponaosob tako što su kolone latentnih matrica <em> U</em> i <em> V</em> generisane iz Gausovog procesa (GP). Gausov proces je stohasički proces koji predstavlja uopštenje višedimenzione normalne raspodjele. Kovarijacione funkcije Gausovog procesa se određuju na osnovu dodatnih informacija iz podataka i omogućuju korišćenje informacije o korelacionoj strukturi podataka. U projektu se fokusiramo na određivanje kovarijacionih funkcija iz neusmjerenih grafova (društvena mreža korisnika). Uopšteni okvir algoritma omogućuje korišćenje drugih tipova dodatnih informacija. U slučaju kada su dodatne informacije zadate u vektorskom formatu, tada za kovarijacionu funkciju možemo koristiti RBF kernel (Radial Basis Function Kernel). O načinu generisanja kovarijacionih matrica i kernelima će detaljnije biti rečeno kasnije.\n",
    "</div>"
   ]
  },
  {
   "cell_type": "markdown",
   "id": "01562468",
   "metadata": {},
   "source": [
    "<div style=\"text-align: justify\">\n",
    "    Pod pretpostavkom da su kovarijacione matrice $K_{U}\\in\\mathbb{R}{^{NxN}}$ i $K_{V}\\in\\mathbb{R}{^{MxM}}$ poznate, generativni algoritam je sledeći: "
   ]
  },
  {
   "cell_type": "markdown",
   "id": "0eead212",
   "metadata": {},
   "source": [
    "1.  Generisati $U_{:,d} \\sim \\mathcal{GP}(0, K_U)$ za sve $ d \\in \\{1, 2, \\dots, D\\}$, \n",
    "2.  Generisati $V_{:,d} \\sim \\mathcal{GP}(0, K_V)$ za sve $d \\in \\{1, 2, \\dots, D\\}$,\n",
    "3.  Za svako popunjeno polje $R_{i,j}$, generisati $R_{i,j} \\sim \\mathcal{N}\\left(U_{i,:}V_{j,:}^T,\\,\\sigma^{2}\\right).$ "
   ]
  },
  {
   "cell_type": "markdown",
   "id": "4221c74a",
   "metadata": {},
   "source": [
    "<html>\n",
    "<body>\n",
    "    \n",
    "<figure style='text-align:center'>\n",
    "    <img src=\"slike/kpmf.jpg\" title=\"pmf vs kpmf\" style = \"width:500px;height:300px\"/>\n",
    "    <figcaption>Slika 1.<br /> a) Popunjavanje matrice <i>U</i> se vrši po redovima u PMF, <br />b) Popunjavanje matrice <i>U</i> se vrši po kolonama u KPMF.</figcaption>\n",
    "</figure>\n",
    "</body>  \n",
    "</html>\n"
   ]
  },
  {
   "cell_type": "markdown",
   "id": "c527ddde",
   "metadata": {},
   "source": [
    "<div style=\"text-align: justify\">KPMF predstavlja uopštenje metode PMF, jer u slučaju kada su matrice $K_{U}$ i $K_{V}$ dijagonalne, KPMF se svodi na PMF.\n",
    "    U KPMF zadržavamo pretpostavke o nezavisnosti matrica <em>U</em> i <em>V </em>i međusobnoj nezavisnosti rejtinga, a izbacujemo pretpostavku o međusobnoj nezavisnosni korisnika i međusobnoj nezavisnosti izvođača koja nije adekvatna u realnom scenariju. Na slici 1(a) je ilustrovano kako se <em>U</em> generiše po redovima u PMF, odnosno latentni faktori $U_{n,:}$ su generisani za svaki red matrice rejtinga <em>R</em>. Iz ovoga slijedi da su $U_{n,:}$ - ovi uslovno nezavisni pri datoj apriornoj raspodjeli, pa korelacije između redova nisu ugrađene u model. Sa druge strane, u KPMF, matricu <em>U</em> generišemo po kolonama (slika 1(b)), odnosni svaki latentni vektor $U_{:,d}$ je generisan za sve redove matrice <em>R</em>.\n",
    "Intuitivno, ukoliko dva reda imaju sličnost na osnovu dodatnih informacija, odgovarajući latentni faktori će takođe biti slični nakon obučavanja modela što je i cilj korišćenja dodatnih informacija. \n",
    "    \n",
    "Da ne bismo rad opterećivali formulama, detalje o implementaciji stohastičkog gradijentnog spusta u KMPF možete pročitati u originalnom radu [KPMF](https://tinghuiz.github.io/papers/sdm12_kpmf.pdf). <br>\n",
    "U metodi KPMF se od dodatnih informacija koriste društvena mreža korisnika i informacija o tagovima (žanrovima muzike) koji su korisnici dodijelili slušanim izvođačima. </div>"
   ]
  },
  {
   "cell_type": "markdown",
   "id": "33c2ece6",
   "metadata": {},
   "source": [
    "<html>\n",
    "<body>\n",
    "    \n",
    "<figure style='text-align:center'>\n",
    "    <img src=\"slike/gen_alg.jpg\" title=\"pmf kpmf ckpmf\" style = \"width:550px;height:600px\"/>\n",
    "    <figcaption>Slika 2. Generativni proces za matricu rejtinga <em> R </em>. <br />a) PMF, b) cPMF, c) KPMF,  d) cKPMF.</figcaption>\n",
    "</figure>\n",
    "</body>  \n",
    "</html>\n"
   ]
  },
  {
   "cell_type": "markdown",
   "id": "176c279a",
   "metadata": {},
   "source": [
    "### cPMF"
   ]
  },
  {
   "cell_type": "markdown",
   "id": "a0ae12d6",
   "metadata": {},
   "source": [
    "<div style=\"text-align: justify\">\n",
    "U baznoj PMF metodi, latentni vektor za korisnika koji je rijetko ocjenjivao izvođače će biti blizak prosjeku rejtinga \n",
    "svih korisnika u treniranom modelu. Ovo je previše gruba ocjena za predikcije rejtinga u slučaju slabije aktivnih korisnika.\n",
    "Bolji način pristupa jeste da se pronađu drugi korisnici koji su slušali iste ili slične izvođače kao slabije aktivni korisnici\n",
    "i da se nametne uslov da su latentni vektori sličnih korisnika slični. Ograničena probabilistička matrična faktorizacija je modifikacija PMF metode koja koristi ovu intuiciju. U cPMF metodi, matrica <em>U</em> se ograničava latentnom matricom sličnosti $W \\in\\mathbb{R}{^{MxD}}$ na sledeći način:<div>\n"
   ]
  },
  {
   "cell_type": "markdown",
   "id": "d40fe1fc",
   "metadata": {},
   "source": [
    "<div style=\"text-align: justify\">\n",
    "    $$U_{i,:} := Y_{i,:} + \\frac{\\sum_{k=1}^{M}I_{i,k}W_{k,:}}{\\sum_{k=1}^{M}I_{i,k}},\n",
    "    \\tag{3}$$\n",
    "</div>"
   ]
  },
  {
   "cell_type": "markdown",
   "id": "b58a6787",
   "metadata": {},
   "source": [
    "<div style=\"text-align: justify\"> gdje $k$ - ti red matrice <em>W</em> sadrži informaciju o efektu koji ocjenjivanje izvođača $k$ ima na latentni vektor korisnika, a matrica $Y \\in\\mathbb{R}{^{NxD}}$ sadrži informaciju o odstupanju rejtinga koji je korisnik dodijelio. Generativni algoritam je sledeći (vidjeti sliku 2(b)): \n",
    "</div>"
   ]
  },
  {
   "cell_type": "markdown",
   "id": "11219ab6",
   "metadata": {},
   "source": [
    "1.  Generisati $W_{k,:} \\sim \\mathcal{N}\\left(0,\\,\\sigma^{2}_WI\\right)$ za sve  $ k \\in \\{1, 2, \\dots, M\\}$,  \n",
    "2.  Generisati $Y_{i,:} \\sim \\mathcal{N}\\left(0,\\,\\sigma^{2}_YI\\right)$ za sve $i \\in \\{1, 2, \\dots, N\\}$,\n",
    "3.  Generisati $V_{j,:} \\sim \\mathcal{N}\\left(0,\\,\\sigma^{2}_VI\\right)$ za sve $i \\in \\{1, 2, \\dots, M\\}$,\n",
    "4.  Za svako popunjeno polje $R_{i,j}$, generisati $R_{i,j} \\sim \\mathcal{N}\\left(U_{i,:}V_{j,:}^T,\\,\\sigma^{2}\\right)$."
   ]
  },
  {
   "cell_type": "markdown",
   "id": "46caeadc",
   "metadata": {},
   "source": [
    "Koristimo stohastički gradijentni spust za pronalaženje maksimalne aposteriorne ocjene (MAP) za $Y$, $V$ i $W$. Za svaki element $R_{i,j}$, algoritam ažuriranja parametara modela je sledeći:<div>"
   ]
  },
  {
   "cell_type": "markdown",
   "id": "c7dfdaaa",
   "metadata": {},
   "source": [
    "<div style=\"text-align: justify\">\n",
    "$$\n",
    "err_{i, j} = R_{i, j} - U_{i, :} \\, V_{j, :},\n",
    "\\tag{4} $$ <br>\n",
    "$$Y_{i, :} := Y_{i, :} + \\alpha \\left(err_{i, j}\\,V_{j, :} - \\frac{\\sigma^2}{\\sigma_Y^2 \\, \\sum_{p = 1}^{M}I_{i,p}}\\,Y_{i, :}\\right),$$ <br>\n",
    "$$V_{j, :} := V_{j, :} + \\alpha \\left(err_{i, j}\\,U_{i, :} - \\frac{\\sigma^2}{\\sigma_V^2 \\, \\sum_{p = 1}^{N}I_{p,j}}\\,V_{j, :}\\right),$$ <br>\n",
    "$$W := W + \\alpha \\, err_{i, j} \\frac{I_{i, :} \\bigotimes V_{j, :}}{\\sum_{k=1}^{M}I_{i,k}},$$ <br>\n",
    "$$W_{j, :} := W_{j, :} - \\alpha \\frac{\\sigma^2}{\\sigma_W^2 \\, \\sum_{p = 1}^{N}I_{p,j}}\\,W_{j, :}.  $$\n",
    "</div>"
   ]
  },
  {
   "cell_type": "markdown",
   "id": "9dc6763f",
   "metadata": {},
   "source": [
    "### cKPMF"
   ]
  },
  {
   "cell_type": "markdown",
   "id": "11a63a37",
   "metadata": {},
   "source": [
    "<div style=\"text-align: justify\"> Ideja metode cKPMF jeste da se u modelu objedine dodatne informacije i nametanje uslova za latentnu matricu korisnika <em> U </em> na način koji je opisan u metodi cPMF. U ovoj metodi ograničavamo matricu <em> U </em> matricom <em> W </em>, a istovremeno su kolone latentne matrice izvođača <em> V </em> generisane iz Gausovog procesa.\n",
    "Na slici 2(d) je prikazan generativni algoritam metode cKPMF. Algoritam je sledeći: <div>\n",
    "  "
   ]
  },
  {
   "cell_type": "markdown",
   "id": "412f5eae",
   "metadata": {},
   "source": [
    "1.  Generisati $W_{k, :} \\sim \\mathcal{N}\\left(0, \\,\\sigma_W^2I\\right)$ za sve $ k \\in \\{1, 2, \\dots, M\\}$,\n",
    "2.  Generisati $Y_{i, :} \\sim \\mathcal{N}\\left(0, \\,\\sigma_Y^2I\\right)$ za sve $i \\in \\{1, 2, \\dots, N\\}$,\n",
    "3. Generisati $V_{:, d} \\sim \\mathcal{GP}\\left(0, \\,K_v\\right)$ za sve $d \\in \\{1, 2, \\dots, D\\}$,\n",
    "4. Generisati indikatorsku matricu $I$ takvu da je $I_{i,j} = 1$, ukoliko je rejting $R_{i,j}$ poznat, ili $I_{i, j} = 0$ u suprotnom,\n",
    "5.  Za svako popunjeno polje $R_{i,j}$, generisati $R_{i,j} \\sim \\mathcal{N}\\left(U_{i,:}V_{j,:}^T,\\,\\sigma^{2}\\right)$."
   ]
  },
  {
   "cell_type": "markdown",
   "id": "3cd8b123",
   "metadata": {},
   "source": [
    "<div style=\"text-align: justify\"> Možemo primijetiti da cKPMF predstavlja uopštenje cPMF, jer u slučaju kada je matrica $K_{V}$ dijagonalna, cKPMF se svodi na cPMF. Formule ažuriranja parametara u matricama $Y$ i $W$ su iste kao u cPMF (4), dok je pravilo po kom se ažuriraju parametri matrice <em>V</em> sledeće: <div>"
   ]
  },
  {
   "cell_type": "markdown",
   "id": "844a94da",
   "metadata": {},
   "source": [
    "<div style=\"text-align: justify\">\n",
    "$$V_{j, :} := V_{j, :} + \\alpha\\left (err_{i, j}\\,U_{i, :} - \\frac{\\sigma^2}{2 \\sum_{p = 1}^{N}I_{p,j}}\\,\\left(\\sum_{k=1}^M S_{vj, k} \\, V_{k, :} + S_{vj, j} \\, V_{j, :}\\right)\\right).\n",
    "\\tag{5}$$\n",
    "<div>"
   ]
  },
  {
   "cell_type": "markdown",
   "id": "f54c340c",
   "metadata": {},
   "source": [
    "Metoda cKPMF od dodatnih informacija ne koristi društvenu mrežu korisnika, već koristi samo informaciju o tagovima (žanrovima muzike) koji su korisnici dodijelili slušanim izvođačima. "
   ]
  },
  {
   "cell_type": "markdown",
   "id": "26106fe6",
   "metadata": {},
   "source": [
    "#### Konstrukcija kovarijacione matrice $K_{U}$"
   ]
  },
  {
   "cell_type": "markdown",
   "id": "dc607575",
   "metadata": {},
   "source": [
    "<div style=\"text-align: justify\" > Validna kernel funkcija za Gausov proces treba da generiše kovarijacionu matricu koja je pozitivno semi-definitna. \n",
    "Za konstrukciju matrice $K_{U}$ koja odgovara našem problemu, posmatramo društvenu mrežu korisnika kao neusmjeren graf $G$ sa čvorovima i granama koji predstavljaju korisnike i njihove konekcije (prijatelje) na muzičkoj platformi. Elementi matrice povezanosti (<em>eng. Adjacency Matrix</em>) grafa $G$ su definisani kao $A_{i,j} = 1$, ako postoji grana (poveznica) između korisnika na poziciji ($i,j$), a u suprotnom je $A_{i,j} = 0$. Laplasova matrica grafa $G$ je definisana sa $L = D-A$, gdje je $D$ matrica stepena (<em>eng. Degree Matrix</em>) koja je dijagonalna sa elementima $d_i = \\sum_{j=1}^{N}A_{i,j} , i \\in \\{1, 2, \\dots,N\\}.$ Grafovski kerneli služe za izvlačenje informacije o zamršenoj strukturi čvorova grafa. U našem slučaju, grafovski kernel definiše mjeru sličnosti muzičkog ukusa između korisnika. Korisnici često imaju sličan ukus za muziku kao njihovi prijatelji i porodica. Stoga, za rejtinge koje daju korisnik i njegov prijatelj se očekuje da budu korelisani. Grafovska reprezentacija društvene mreže korisnika je prikazana na slici 3(a). \n",
    "</div>"
   ]
  },
  {
   "cell_type": "markdown",
   "id": "0ec62ec1",
   "metadata": {},
   "source": [
    "<div style=\"text-align: justify\">\n",
    "U našem projektu koristimo četiri različita kernela za generisanje kovarijacione matrice $K_{U}$ koje ćemo u nastavku detaljnije objasniti. \n",
    "</div>"
   ]
  },
  {
   "cell_type": "markdown",
   "id": "ec850164",
   "metadata": {},
   "source": [
    "#### 🎵 Kernel prosječnog vremena obilaska - Commute Time (CT) Kernel"
   ]
  },
  {
   "cell_type": "markdown",
   "id": "42bca4c2",
   "metadata": {},
   "source": [
    "<div style=\"text-align: justify\" >Commute time (CT) kernel je usko povezan sa prosječnim vremenom obilaska (broj koraka koje je potrebno napraviti između dva čvora grafa) i može se izračunati pomoću pseudo-inverza Laplasove matrice: $K_{CT} = L^{\\dagger}$. Dodatno, kako je $K_{CT}$ uslovno pozitivno-definitna, $\\sqrt{K_{CT}(i,j)}$ oponaša euklidsko rastojanje između čvorova grafa $G$.\n",
    "</div>"
   ]
  },
  {
   "cell_type": "markdown",
   "id": "e915b09e",
   "metadata": {},
   "source": [
    "#### 🎵 Regularizacioni Laplasov Kernel - Regularized Laplacian (RL) Kernel"
   ]
  },
  {
   "cell_type": "markdown",
   "id": "ce607f50",
   "metadata": {},
   "source": [
    "<div style=\"text-align: justify\" >Glavna ideja regularizacionog Laplasovog kernela jeste da omogući primjenu regularizacije na grafove time što kažnjava varijaciju između susjednih čvorova. Ispostavlja se da se Laplasov graf može definisati kao linearni operator nad čvorovima grafa i prirodno definiše pseudo-normu na $\\mathbb{R}{^N}$. Ova pseudo-norma kvantifikuje varijaciju susjednih čvorova i može da se koristi za konstrukciju regularizacionih operatora. Među njima izdvajamo jednog predstavnika skupa grafovskih kernela - Regularizacioni Laplasov Kernel: $K_{RL} = (I+\\gamma L)^{-1}$, gdje je $\\gamma>0$ konstanta.</div>"
   ]
  },
  {
   "cell_type": "markdown",
   "id": "547778a8",
   "metadata": {},
   "source": [
    "#### 🎵 Difuzioni Kernel - Diffusion Kernel "
   ]
  },
  {
   "cell_type": "markdown",
   "id": "e9dc6fc9",
   "metadata": {},
   "source": [
    "<div style=\"text-align: justify\" >Difuzioni kernel se zasniva na ideji eksponenta matrice i može se intuitivno razumjeti kroz proces difuzije neke supstance. Na primjer, ako ubacimo tečnost u čvor $i$ grafa i pustimo je da protiče kroz grane grafa, $K_D(i,j)$ možemo protumačiti kao količinu tečnosti akumuliranu u čvoru $j$ nakon stabilizacije sistema. Difuzioni kernel opisuje globalnu strukturu među čvorovima grafa i definiše se kao: $K_D = \\lim_{n \\to \\infty} \\left(1-\\frac{\\beta L}{n}\\right)^{n} =e^{-\\beta L}$, gdje je $\\beta$ parametar koji određuje stepen difuzije ($\\beta = 0$ znači da nema difuzije). </div>"
   ]
  },
  {
   "cell_type": "markdown",
   "id": "0e3482e2",
   "metadata": {},
   "source": [
    "<html>\n",
    "\n",
    "    \n",
    "<figure style='text-align:center'>\n",
    "    <img src=\"slike/izgled_podataka.jpg\" title=\"pmf vs kpmf\" style = \"width:500px;height:380px\"/>\n",
    "    <figcaption>Slika 3.  <br /> a) Grafovska reprezentacija korisnika i njihovih prijatelja, <br />b) Matrica rejtinga <i>R</i>, <br /> c) Reprezentacija dodjele tagova (žanrova) muzike izvođačima. </figcaption>\n",
    "</figure>\n",
    "</html>"
   ]
  },
  {
   "cell_type": "markdown",
   "id": "af1f6c4a",
   "metadata": {},
   "source": [
    "#### 🎵 Radial Basis Function Kernel - RBF"
   ]
  },
  {
   "cell_type": "markdown",
   "id": "10a993a3",
   "metadata": {},
   "source": [
    "<div style=\"text-align: justify\" >Ukoliko imamo dodatne podatke zadate u vektorskom, a ne u grafovskom obliku, tada zamjenjujemo grafovske kernele sa RBF kernelom. RBF kernel se definiše sa:\n",
    "$K_{RBF}(x, x') = e^{-\\frac{\\lVert  x-x'  \\rVert ^2}{\\gamma}}$. Kada su podaci o društvenoj mreži korisnika zadati u vektorskom obliku, tada za generisanje matrice $K_U$ koristimo RBF kernel.</div>\n"
   ]
  },
  {
   "cell_type": "markdown",
   "id": "75281a59",
   "metadata": {},
   "source": [
    "#### Konstrukcija kovarijacione matrice $K_{V}$"
   ]
  },
  {
   "cell_type": "markdown",
   "id": "f36f9176",
   "metadata": {},
   "source": [
    "Fajl <em>user_tagged_artists.dat</em> sadrži informaciju o tagovima (žanrovima muzike) koji su korisnici dodijelili slušanim izvođačima. Da bismo dobili dodatne informacije o izvođačima kreiramo matricu $T$ dimenzija (M x broj tagova), tako da se na poziciji $T(i, j)$ nalazi 1, ukoliko je $i$ - ti izvođač okarakterisan odgovarajućim žanrom, a u suprotnom 0 (slika 3(c)). Matricu $K_V$ dobijamo primjenom kovarijacione funkcije na matricu $T$. \n"
   ]
  }
 ],
 "metadata": {
  "kernelspec": {
   "display_name": "Python 3 (ipykernel)",
   "language": "python",
   "name": "python3"
  },
  "language_info": {
   "codemirror_mode": {
    "name": "ipython",
    "version": 3
   },
   "file_extension": ".py",
   "mimetype": "text/x-python",
   "name": "python",
   "nbconvert_exporter": "python",
   "pygments_lexer": "ipython3",
   "version": "3.9.7"
  }
 },
 "nbformat": 4,
 "nbformat_minor": 5
}
