{
 "cells": [
  {
   "cell_type": "code",
   "execution_count": 15,
   "id": "d03c0146",
   "metadata": {},
   "outputs": [],
   "source": [
    "import pandas as pd\n",
    "import numpy as np\n",
    "from tabulate import tabulate\n",
    "from matplotlib import pyplot as plt"
   ]
  },
  {
   "cell_type": "markdown",
   "id": "0a91ed30",
   "metadata": {},
   "source": [
    "## Skup podataka i vizuelizacija"
   ]
  },
  {
   "cell_type": "markdown",
   "id": "b8d92bb9",
   "metadata": {},
   "source": [
    "<div style=\"text-align: justify\"> Skup podataka sa kojim radimo naziva se <em>hetrec2011-lastfm-2k</em> i sadrži \n",
    "informacije o popularnosti muzičkih izvođača po njihovoj slušanosti od strane korisnika, društvenoj mreži korisnika,\n",
    "kao i rejtinzima i žanrovima koje su korisnici dodijelili izvođačima na onlajn muzičkoj platformi <em>Last.fm</em>.\n",
    "Baza podataka je objavljena u okviru druge međunarodne radionice o heterogenosti informacija i fuzije u sistemima preporuka (HetRec 2011). </div>"
   ]
  },
  {
   "cell_type": "markdown",
   "id": "489bf966",
   "metadata": {},
   "source": [
    "### Sadržaj skupa podataka"
   ]
  },
  {
   "cell_type": "markdown",
   "id": "4f07a0e4",
   "metadata": {},
   "source": [
    "Skup podataka sastoji se od šest datoteka:\n",
    "* **artists.dat**   \n",
    "    Fajl sadrži informacije o izvođačima koje su korisnici slušali i kojima su dodijelili odgovarajući tag žanra muzike. \n",
    "* **tags.dat**   \n",
    "    Fajl sadrži skup svih mogućih tagova (žanrova muzike) dostpunih u skupu podataka.\n",
    "* **user_artists.dat**    \n",
    "    Fajl sadrži skup izvođača slušanih od strane korisnika. Takođe, sadrži i informaciju o dužini slušanja (kolona 'weight') za svaki [korisnik, izvođač] par. \n",
    "* **user_tagged_artists.dat**    \n",
    "    Fajl sadrži informaciju o tagovima (žanrovima muzike) koji su korisnici dodijelili slušanim izvođačima.\n",
    "* **user_tagged_artists-timestamps.dat**    \n",
    "    Fajl je modifikacija prethodno navedenog u kom je dodata informacija o vremenskom trenutku kada je tag (žanr muzike) dodijeljen. \n",
    "        \n",
    "* **user_friends.dat**    \n",
    "    Fajl sadrži informaciju o društvenoj mreži korisnika, odnosno vezu između korisnika i njegovih prijatelja na muzičkoj platformi. \n",
    "    "
   ]
  },
  {
   "cell_type": "markdown",
   "id": "af60697f",
   "metadata": {},
   "source": [
    "### Format podataka"
   ]
  },
  {
   "cell_type": "markdown",
   "id": "a4beb952",
   "metadata": {},
   "source": [
    "<div style=\"text-align: justify\"> Podaci su organizovani u formi jednog unosa po redu i u svakom redu su razdvojeni tabulatorom \"\\t\". Na primjer, fajl <em> user_artists.dat</em>  je formairan kao <br/> userID \\t artistID \\t weight. Analogno za ostale fajlove u skupu podataka.\n",
    "\n",
    "<b>Napomena:</b><br>",
    "    Da bi se smanjila memorijska i vremenska složenost treniranja modela, izdvojen je podskup od hiljadu najslušanijih izvođača na muzičkoj platformi <em>Last.fm.</em>\n",
    "</div>"
   ]
  },
  {
   "cell_type": "markdown",
   "id": "165c343c",
   "metadata": {},
   "source": [
    "### Vizuelizacija podatka\n",
    "U svrhu detaljnije analize podataka, potrebno je da ih prvo učitamo i vizuelizujemo. Za učitavanje podataka koristimo funkciju <em> read_excel</em>  biblioteke <em> pandas</em> . Podaci se učitavaju iz tri fajla. Prvo učitavamo podatke o korisnicima i izvođačima koje su slušali, a potom izdvajamo hiljadu najpopularnijih izvođača. "
   ]
  },
  {
   "cell_type": "code",
   "execution_count": 16,
   "id": "395f1869",
   "metadata": {},
   "outputs": [
    {
     "data": {
      "text/html": [
       "<div>\n",
       "<style scoped>\n",
       "    .dataframe tbody tr th:only-of-type {\n",
       "        vertical-align: middle;\n",
       "    }\n",
       "\n",
       "    .dataframe tbody tr th {\n",
       "        vertical-align: top;\n",
       "    }\n",
       "\n",
       "    .dataframe thead th {\n",
       "        text-align: right;\n",
       "    }\n",
       "</style>\n",
       "<table border=\"1\" class=\"dataframe\">\n",
       "  <thead>\n",
       "    <tr style=\"text-align: right;\">\n",
       "      <th></th>\n",
       "      <th>userID</th>\n",
       "      <th>artistID</th>\n",
       "      <th>weight</th>\n",
       "    </tr>\n",
       "  </thead>\n",
       "  <tbody>\n",
       "    <tr>\n",
       "      <th>0</th>\n",
       "      <td>2</td>\n",
       "      <td>51</td>\n",
       "      <td>13883</td>\n",
       "    </tr>\n",
       "    <tr>\n",
       "      <th>1</th>\n",
       "      <td>2</td>\n",
       "      <td>52</td>\n",
       "      <td>11690</td>\n",
       "    </tr>\n",
       "    <tr>\n",
       "      <th>2</th>\n",
       "      <td>2</td>\n",
       "      <td>53</td>\n",
       "      <td>11351</td>\n",
       "    </tr>\n",
       "    <tr>\n",
       "      <th>3</th>\n",
       "      <td>2</td>\n",
       "      <td>54</td>\n",
       "      <td>10300</td>\n",
       "    </tr>\n",
       "    <tr>\n",
       "      <th>4</th>\n",
       "      <td>2</td>\n",
       "      <td>55</td>\n",
       "      <td>8983</td>\n",
       "    </tr>\n",
       "  </tbody>\n",
       "</table>\n",
       "</div>"
      ],
      "text/plain": [
       "   userID  artistID  weight\n",
       "0       2        51   13883\n",
       "1       2        52   11690\n",
       "2       2        53   11351\n",
       "3       2        54   10300\n",
       "4       2        55    8983"
      ]
     },
     "execution_count": 16,
     "metadata": {},
     "output_type": "execute_result"
    }
   ],
   "source": [
    "df_user_artists1 = pd.read_excel('baza/user_artists.xlsx')\n",
    "artistID, rate_frequency_artist = np.unique(df_user_artists1['artistID'], return_counts=True)\n",
    "artist_rate_frequency = pd.DataFrame({'artistID': artistID, 'rate_frequency_artist': rate_frequency_artist})\n",
    "artist_rate_frequency.sort_values(by='rate_frequency_artist', ascending=False, inplace=True)\n",
    "most_frequent_artists = artist_rate_frequency[:1000]\n",
    "df_user_artists = df_user_artists1[df_user_artists1['artistID'].isin(most_frequent_artists['artistID'])]\n",
    "\n",
    "# Prikaz prvih 5 instanci skupa podataka.\n",
    "df_user_artists.head()"
   ]
  },
  {
   "cell_type": "code",
   "execution_count": 17,
   "id": "25399d4c",
   "metadata": {},
   "outputs": [],
   "source": [
    "# Učitavanje podataka o korisnicima i njihovim prijateljima.\n",
    "df_user_friends = pd.read_excel('baza/user_friends.xlsx')    "
   ]
  },
  {
   "cell_type": "code",
   "execution_count": 18,
   "id": "9d3ba264",
   "metadata": {},
   "outputs": [],
   "source": [
    "# Učitavanje podataka o tagovima koje su korisnici dodijelili izvođačima.\n",
    "df_user_tagged_artists = pd.read_excel('baza/user_tagged_artists.xlsx')"
   ]
  },
  {
   "cell_type": "code",
   "execution_count": 19,
   "id": "e6ee5c7b",
   "metadata": {},
   "outputs": [
    {
     "name": "stdout",
     "output_type": "stream",
     "text": [
      "users, items, ratings: 1871 1000 56620\n"
     ]
    }
   ],
   "source": [
    "# Broj jedinstvenih korisnika i izvođača redom, broj dodijeljenih rejtinga. Izvođači su označeni sa items.\n",
    "users = df_user_artists.drop_duplicates(subset='userID')\n",
    "n_users = len(users)\n",
    "n_items = len(most_frequent_artists)\n",
    "ratings = len(df_user_artists)\n",
    "print(f\"users, items, ratings:\", n_users, n_items, ratings)"
   ]
  },
  {
   "cell_type": "code",
   "execution_count": 20,
   "id": "255762a4",
   "metadata": {},
   "outputs": [
    {
     "name": "stdout",
     "output_type": "stream",
     "text": [
      "rating_density:  3.3%\n"
     ]
    }
   ],
   "source": [
    "# Gustina dodjeljivanja rejtina (predstavlja mjeru koliko dodijeljenih rejtinga imamo po korisniku). \n",
    "# Uočavamo da je gustina dodjeljivanja rejtinga mala. \n",
    "rating_density = \"{:.1%}\".format(n_users/ratings)\n",
    "print(f\"rating_density: \", rating_density)"
   ]
  },
  {
   "cell_type": "code",
   "execution_count": 21,
   "id": "a7dc180f",
   "metadata": {},
   "outputs": [
    {
     "name": "stdout",
     "output_type": "stream",
     "text": [
      "Broj poveznica između korisnika i njihovih prijatelja:  25296\n"
     ]
    }
   ],
   "source": [
    "# Izdvajamo korisnike i njihove prijatelje koji se nalaze u skupu prethodno izdvojenih \n",
    "# korisnika koji su dodijelili rejting za hiljadu najfrekventinijih izvođača. \n",
    "df_relations=df_user_friends[df_user_friends['userID'].isin(users['userID'])]\n",
    "n_relations = len(df_relations)\n",
    "print(f\"Broj poveznica između korisnika i njihovih prijatelja: \", n_relations)"
   ]
  },
  {
   "cell_type": "code",
   "execution_count": 22,
   "id": "f38dc816",
   "metadata": {},
   "outputs": [
    {
     "name": "stdout",
     "output_type": "stream",
     "text": [
      "Broj tagova dodijeljenih izvođačima:  87366\n"
     ]
    }
   ],
   "source": [
    "# Određujemo broj tagova koji su pridruženi odabranim izvođačima. \n",
    "df_artist_tags=df_user_tagged_artists[df_user_tagged_artists['artistID'].isin(most_frequent_artists['artistID'])]\n",
    "n_tags = len(df_artist_tags)\n",
    "print(f\"Broj tagova dodijeljenih izvođačima: \", n_tags)"
   ]
  },
  {
   "cell_type": "code",
   "execution_count": 23,
   "id": "ed061594",
   "metadata": {},
   "outputs": [],
   "source": [
    "# Na osnovu dobijenih rezultata možemo kreirati tabelu sumarnih statistika.  \n",
    "statistics = [[\"#Users\", n_users], \n",
    "              [\"#Items\", n_items], \n",
    "              [\"#Ratings\", ratings], \n",
    "              [\"Rating Density\", rating_density],\n",
    "              [\"#Relations\", n_relations], \n",
    "              [\"#Tags\", n_tags]]"
   ]
  },
  {
   "cell_type": "code",
   "execution_count": 24,
   "id": "aa4fe15a",
   "metadata": {},
   "outputs": [],
   "source": [
    "column_names = [\"Item\", \"Statistic\"]"
   ]
  },
  {
   "cell_type": "code",
   "execution_count": 25,
   "id": "e014ab01",
   "metadata": {},
   "outputs": [
    {
     "name": "stdout",
     "output_type": "stream",
     "text": [
      "Item            Statistic\n",
      "--------------  -----------\n",
      "#Users          1871\n",
      "#Items          1000\n",
      "#Ratings        56620\n",
      "Rating Density  3.3%\n",
      "#Relations      25296\n",
      "#Tags           87366\n"
     ]
    }
   ],
   "source": [
    "print(tabulate(statistics, headers=column_names))"
   ]
  },
  {
   "cell_type": "code",
   "execution_count": 26,
   "id": "06164baa",
   "metadata": {},
   "outputs": [
    {
     "data": {
      "image/png": "[encoded data removed]",
      "text/plain": [
       "<Figure size 720x288 with 2 Axes>"
      ]
     },
     "metadata": {
      "needs_background": "light"
     },
     "output_type": "display_data"
    }
   ],
   "source": [
    "# Da bismo ispitali izbalansiranost podataka kreiramo histograme za korisnike koji su dodijelili rejting\n",
    "# i za izvođače kojima je dodijeljen rejting. \n",
    "# Određujemo prvo frekvenciju dodijeljenih tagova od strane korisnika. \n",
    "userID, rate_frequency_user = np.unique(df_user_artists['userID'], return_counts=True)\n",
    "\n",
    "fig, (ax1, ax2) = plt.subplots(1, 2)\n",
    "fig.set_size_inches(10, 4)\n",
    "ax1.hist(most_frequent_artists['rate_frequency_artist'], bins = 'auto', edgecolor='royalblue', color='pink',\\\n",
    "        linewidth = 0.7)\n",
    "ax1.set_title('Artist Rating Frequency Distribution')\n",
    "ax1.set_xlabel('number of observed ratings')\n",
    "ax1.set_ylabel('number of artists')\n",
    "\n",
    "ax2.hist(rate_frequency_user, bins = 'auto', edgecolor='royalblue', color='pink', \\\n",
    "        linewidth = 0.7)\n",
    "ax2.set_title('User Rating Frequency Distribution')\n",
    "ax2.set_xlabel('number of observed ratings')               \n",
    "ax2.set_ylabel('number of users')\n",
    "\n",
    "plt.show()"
   ]
  },
  {
   "cell_type": "markdown",
   "id": "bbc7e21d",
   "metadata": {},
   "source": [
    "<div style=\"text-align: justify\"> Posmatrajući histograme uočavamo da su frekvencije ocijenjenih izvođača izbalansirane, jer većina izvođača ima slične frekvencije.\n",
    "Sa druge strane, frekvencije ocjena korisnika značajno variraju. Ovo opažanje je donekle očekivano, jer korisnik može dati više različitih tagova različitim izvođačima, odnosno može da ocijeni veliki broj izvođača, ali može da ocijeni i samo jednog. </div>\n",
    "\n",
    "Stoga, zaključujemo da se za naš skup podataka vezuju dva ključna problema: \n",
    "* nedostatak podataka,\n",
    "* neizbalansiranost podataka."
   ]
  },
  {
   "cell_type": "code",
   "execution_count": 27,
   "id": "4e5ed1bf",
   "metadata": {},
   "outputs": [
    {
     "name": "stdout",
     "output_type": "stream",
     "text": [
      "1300\n"
     ]
    }
   ],
   "source": [
    "print(len(df_user_artists[df_user_artists['weight'] > 5000]))"
   ]
  },
  {
   "cell_type": "markdown",
   "id": "36e708f7",
   "metadata": {},
   "source": [
    "<div style=\"text-align: justify\"> Nadalje, uočavamo da je raspodjela izdvojenih 56620 rejtinga veoma asimetrična. Samo 1300 rejtinga su veći od 5000. \n",
    "To možemo vidjeti i na grafiku u nastavku, dolje, lijevo. Da bismo riješili ovaj problem odlučujemo se za logaritamsku transformaciju rejtinga, odnosno za rejtinge uzimamo logaritam kolone 'listening count'. Grafik prikazuje raspodjelu rejtinga prije i poslije primjene logaritamske transformacije. Možemo primijetiti da je raspodjela rejtinga približno log-normalna. </div>"
   ]
  },
  {
   "cell_type": "code",
   "execution_count": 28,
   "id": "51f27cf3",
   "metadata": {},
   "outputs": [
    {
     "data": {
      "image/png": "[encoded data removed]",
      "text/plain": [
       "<Figure size 936x288 with 2 Axes>"
      ]
     },
     "metadata": {
      "needs_background": "light"
     },
     "output_type": "display_data"
    }
   ],
   "source": [
    "fig, (ax1, ax2) = plt.subplots(1, 2)\n",
    "fig.set_size_inches(13, 4)\n",
    "ax1.hist(df_user_artists['weight'], color='pink')\n",
    "ax1.set_title('Rating Distribution')\n",
    "ax1.set_xlabel('rating')\n",
    "ax1.set_ylabel('count')\n",
    "\n",
    "ax2.hist(np.log(df_user_artists['weight']), edgecolor='royalblue', color='pink', \\\n",
    "        linewidth = 0.7)\n",
    "ax2.set_title('Log-Rating Distribution')\n",
    "ax2.set_xlabel('log(rating)')               \n",
    "ax2.set_ylabel('count')\n",
    "\n",
    "plt.show()"
   ]
  }
 ],
 "metadata": {
  "kernelspec": {
   "display_name": "Python 3 (ipykernel)",
   "language": "python",
   "name": "python3"
  },
  "language_info": {
   "codemirror_mode": {
    "name": "ipython",
    "version": 3
   },
   "file_extension": ".py",
   "mimetype": "text/x-python",
   "name": "python",
   "nbconvert_exporter": "python",
   "pygments_lexer": "ipython3",
   "version": "3.9.7"
  }
 },
 "nbformat": 4,
 "nbformat_minor": 5
}
