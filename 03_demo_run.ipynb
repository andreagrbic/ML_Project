{
 "cells": [
  {
   "cell_type": "code",
   "execution_count": 93,
   "id": "a3d18935",
   "metadata": {},
   "outputs": [],
   "source": [
    "import pandas as pd\n",
    "import numpy as np\n",
    "from sklearn import model_selection\n",
    "from matplotlib import pyplot as plt\n",
    "from sklearn import model_selection\n",
    "import pickle\n",
    "from node2vec import Node2Vec"
   ]
  },
  {
   "cell_type": "code",
   "execution_count": 94,
   "id": "66e509b0",
   "metadata": {},
   "outputs": [],
   "source": [
    "from codes.data import Data\n",
    "from codes.kpmf import KPMF\n",
    "from codes.ckpmf import CKPMF\n",
    "from codes.algorithm_base import AlgorithmBase\n",
    "from codes.grid_search import grid_search\n",
    "import codes.kernels"
   ]
  },
  {
   "cell_type": "code",
   "execution_count": 37,
   "id": "3f7a3fce",
   "metadata": {},
   "outputs": [],
   "source": [
    "# Učitavanje podataka o korisnicima i izvođačima.\n",
    "df_user_artists1 = pd.read_excel('baza/user_artists.xlsx')\n",
    "# Izdvajamo 1000 najslušanijih izvođača.\n",
    "artistID, rate_frequency = np.unique(df_user_artists1['artistID'], return_counts=True)\n",
    "artist_rate_frequency = pd.DataFrame({'artistID': artistID, 'rate_frequency': rate_frequency})\n",
    "artist_rate_frequency.sort_values(by='rate_frequency', ascending=False, inplace=True)\n",
    "most_frequent_artists = artist_rate_frequency[:1000]\n",
    "df_user_artists = df_user_artists1[df_user_artists1['artistID'].isin(most_frequent_artists['artistID'])]\n",
    "\n",
    "#Učitavanje podataka o društvenoj mreži korisnika.\n",
    "df_user_friends = pd.read_excel('baza/user_friends.xlsx')\n",
    "\n",
    "#Učitavanje podataka o tagovima (žanrovima muzike) koje su korisnici dodijelili izvođačima.\n",
    "df_user_tagged_artists = pd.read_excel('baza/user_tagged_artists.xlsx')"
   ]
  },
  {
   "cell_type": "code",
   "execution_count": 38,
   "id": "5e2f8acf",
   "metadata": {},
   "outputs": [],
   "source": [
    "# Podjela skupa podataka na trening/validacioni/test skup.\n",
    "df_user_artists_train_val, df_user_artists_test = model_selection.train_test_split(df_user_artists, test_size=0.2, \\\n",
    "                                                                                   random_state=7)\n",
    "df_user_artists_train, df_user_artists_val = model_selection.train_test_split(df_user_artists_train_val, \\\n",
    "                                                                              test_size=0.2, random_state=7)"
   ]
  },
  {
   "cell_type": "code",
   "execution_count": 73,
   "id": "8c041f6c",
   "metadata": {},
   "outputs": [],
   "source": [
    "# Grid search za različita jezgra.\n",
    "# Inicijalno je čitav projekat rađen u PyCharmu i tamo je pokrenut grid_search i generisani su rezultati, odnosno\n",
    "# određeni su optimalni parametri.\n",
    "# Obzirom da je to jako dugo trajalo (par dana) nismo ponovo pokretale sve u jupyter svesci, već smo samo iskoristile \n",
    "# rezultate dobijene iz PyCharma\n",
    "# Npr. za CT kernel metode KPMF povratna vrijednost poziva funkcije grid search je bila sledeća:\n",
    "# best lr: 0.005, best reg: 0.05, best n_factors: 8\n",
    "\n",
    "# result_ct = grid_search(KPMF, df_user_artists_train, df_user_artists_val, df_user_friends, \\\n",
    "#                         df_user_tagged_artists, params={'kernel': 'ct'})\n",
    "# result_reg = grid_search(KPMF, df_user_artists_train, df_user_artists_val, df_user_friends, \\\n",
    "#                          df_user_tagged_artists, params={'kernel': 'reg'})\n",
    "# result_dif = grid_search(KPMF, df_user_artists_train, df_user_artists_val, df_user_friends, \\\n",
    "#                          df_user_tagged_artists, params={'kernel': 'dif'})\n",
    "# result_rbf = grid_search(KPMF, df_user_artists_train, df_user_artists_val, df_user_friends, \\\n",
    "#                          df_user_tagged_artists, params={'kernel': 'rbf'})\n",
    "# result_ckpmf = grid_search(CKPMF, df_user_artists_train, df_user_artists_val, df_user_friends, \\\n",
    "#                            df_user_tagged_artists, params={'kernel': 'ckpmf'}"
   ]
  },
  {
   "cell_type": "code",
   "execution_count": 40,
   "id": "766b3ed3",
   "metadata": {},
   "outputs": [],
   "source": [
    "# Funkcija za cuvanje modela.\n",
    "def save_model(model, file_name):\n",
    "    pickle.dump(model, open(file_name, 'wb'))"
   ]
  },
  {
   "cell_type": "markdown",
   "id": "f07d8dc4",
   "metadata": {},
   "source": [
    "### Obučavanje KPMF modela"
   ]
  },
  {
   "cell_type": "code",
   "execution_count": 41,
   "id": "e2231798",
   "metadata": {},
   "outputs": [],
   "source": [
    "# KPMF modeli \n",
    "kpmf_model_ct = KPMF(n_epochs=40, n_factors = 8, learning_rate=0.005, regularization=0.05,kernel='ct')"
   ]
  },
  {
   "cell_type": "code",
   "execution_count": 42,
   "id": "166978f2",
   "metadata": {},
   "outputs": [
    {
     "name": "stdout",
     "output_type": "stream",
     "text": [
      "Obrada podataka...\n",
      "Inicijalizacija u i v...\n",
      "Ucenje...\n",
      "Epoha 1:\n",
      "train loss: 5.749321988051649; val loss:5.804866680796854\n",
      "Epoha 2:\n",
      "train loss: 5.27045851013901; val loss:5.422196011153267\n",
      "Epoha 3:\n",
      "train loss: 4.519240660343274; val loss:4.772029643319724\n",
      "Epoha 4:\n",
      "train loss: 3.677651691800591; val loss:4.049168208367829\n",
      "Epoha 5:\n",
      "train loss: 2.879941152684235; val loss:3.3199094155060815\n",
      "Epoha 6:\n",
      "train loss: 2.26809777878796; val loss:2.7310498590272254\n",
      "Epoha 7:\n",
      "train loss: 1.8335217522330696; val loss:2.2972935185699974\n",
      "Epoha 8:\n",
      "train loss: 1.5349828151732714; val loss:1.9892749542768324\n",
      "Epoha 9:\n",
      "train loss: 1.3337222339057584; val loss:1.7732486504971752\n",
      "Epoha 10:\n",
      "train loss: 1.1988689616110577; val loss:1.6213480412767725\n",
      "Epoha 11:\n",
      "train loss: 1.1079525041343552; val loss:1.5132023377682389\n",
      "Epoha 12:\n",
      "train loss: 1.0454927359916886; val loss:1.4346160844058427\n",
      "Epoha 13:\n",
      "train loss: 1.0013210486692066; val loss:1.376010429085585\n",
      "Epoha 14:\n",
      "train loss: 0.9689863065091675; val loss:1.331067312638394\n",
      "Epoha 15:\n",
      "train loss: 0.94445796046417; val loss:1.2956558637086308\n",
      "Epoha 16:\n",
      "train loss: 0.9252116176571469; val loss:1.2670623305411315\n",
      "Epoha 17:\n",
      "train loss: 0.9096427389959173; val loss:1.2434777162740625\n",
      "Epoha 18:\n",
      "train loss: 0.896708991756078; val loss:1.22367123228799\n",
      "Epoha 19:\n",
      "train loss: 0.8857160299816268; val loss:1.2067858116834158\n",
      "Epoha 20:\n",
      "train loss: 0.8761890543820812; val loss:1.1922101500363815\n",
      "Epoha 21:\n",
      "train loss: 0.8677948964859478; val loss:1.1794978675153653\n",
      "Epoha 22:\n",
      "train loss: 0.8602939321392566; val loss:1.1683156528555458\n",
      "Epoha 23:\n",
      "train loss: 0.8535098095865954; val loss:1.1584093863715839\n",
      "Epoha 24:\n",
      "train loss: 0.8473099879549284; val loss:1.149581573229064\n",
      "Epoha 25:\n",
      "train loss: 0.841592955465108; val loss:1.1416760118766596\n",
      "Epoha 26:\n",
      "train loss: 0.8362796542271351; val loss:1.1345671747297443\n",
      "Epoha 27:\n",
      "train loss: 0.8313076058012798; val loss:1.128152714626703\n",
      "Epoha 28:\n",
      "train loss: 0.8266268044236771; val loss:1.1223480826102146\n",
      "Epoha 29:\n",
      "train loss: 0.822196789261927; val loss:1.1170825972116218\n",
      "Epoha 30:\n",
      "train loss: 0.8179845176870223; val loss:1.1122965287614048\n",
      "Epoha 31:\n",
      "train loss: 0.8139627925124404; val loss:1.1079389051881436\n",
      "Epoha 32:\n",
      "train loss: 0.8101090789732556; val loss:1.1039658387098532\n",
      "Epoha 33:\n",
      "train loss: 0.8064046004798535; val loss:1.100339234189792\n",
      "Epoha 34:\n",
      "train loss: 0.8028336369981978; val loss:1.0970257810527386\n",
      "Epoha 35:\n",
      "train loss: 0.7993829730301679; val loss:1.0939961586089126\n",
      "Epoha 36:\n",
      "train loss: 0.796041457752616; val loss:1.0912244038922205\n",
      "Epoha 37:\n",
      "train loss: 0.7927996505254674; val loss:1.088687404568783\n",
      "Epoha 38:\n",
      "train loss: 0.7896495323518522; val loss:1.0863644889896555\n",
      "Epoha 39:\n",
      "train loss: 0.7865842690348269; val loss:1.0842370922896245\n",
      "Epoha 40:\n",
      "train loss: 0.7835980154259957; val loss:1.0822884824016668\n"
     ]
    }
   ],
   "source": [
    "kpmf_model_ct.fit(df_user_artists_train, df_user_artists_val, df_user_friends, df_user_tagged_artists)"
   ]
  },
  {
   "cell_type": "code",
   "execution_count": 50,
   "id": "d2ce0bae",
   "metadata": {},
   "outputs": [],
   "source": [
    "kpmf_model_reg = KPMF(n_epochs=20, n_factors=8, learning_rate=0.01, regularization=0.001, kernel='reg')"
   ]
  },
  {
   "cell_type": "code",
   "execution_count": 51,
   "id": "bc2246a4",
   "metadata": {},
   "outputs": [
    {
     "name": "stdout",
     "output_type": "stream",
     "text": [
      "Obrada podataka...\n",
      "Inicijalizacija u i v...\n",
      "Ucenje...\n",
      "Epoha 1:\n",
      "train loss: 5.0065314537750405; val loss:5.183708614242981\n",
      "Epoha 2:\n",
      "train loss: 3.275881228192744; val loss:3.6910016100272385\n",
      "Epoha 3:\n",
      "train loss: 1.9633884816788139; val loss:2.462383044093801\n",
      "Epoha 4:\n",
      "train loss: 1.3496179911157944; val loss:1.8585188325853175\n",
      "Epoha 5:\n",
      "train loss: 1.083147219739676; val loss:1.5721810823109124\n",
      "Epoha 6:\n",
      "train loss: 0.962876816143505; val loss:1.428262377497886\n",
      "Epoha 7:\n",
      "train loss: 0.9013575883195879; val loss:1.3482003222958832\n",
      "Epoha 8:\n",
      "train loss: 0.8643755599680476; val loss:1.2985916452613793\n",
      "Epoha 9:\n",
      "train loss: 0.8387705850068542; val loss:1.2650563880055254\n",
      "Epoha 10:\n",
      "train loss: 0.8191134989622111; val loss:1.2409672174316049\n",
      "Epoha 11:\n",
      "train loss: 0.8029156437766832; val loss:1.222979994378115\n",
      "Epoha 12:\n",
      "train loss: 0.7889148726967363; val loss:1.209244748988991\n",
      "Epoha 13:\n",
      "train loss: 0.7764179861458356; val loss:1.1986469641446797\n",
      "Epoha 14:\n",
      "train loss: 0.7650228313588461; val loss:1.1904614606589525\n",
      "Epoha 15:\n",
      "train loss: 0.7544876602977029; val loss:1.1841829084512023\n",
      "Epoha 16:\n",
      "train loss: 0.7446628457680928; val loss:1.179437863991526\n",
      "Epoha 17:\n",
      "train loss: 0.7354519689972646; val loss:1.1759373004126232\n",
      "Epoha 18:\n",
      "train loss: 0.7267886666294273; val loss:1.173450404721438\n",
      "Epoha 19:\n",
      "train loss: 0.7186230197777713; val loss:1.1717897574170426\n",
      "Epoha 20:\n",
      "train loss: 0.7109140472851312; val loss:1.1708024225001379\n"
     ]
    }
   ],
   "source": [
    "kpmf_model_reg.fit(df_user_artists_train, df_user_artists_val, df_user_friends, df_user_tagged_artists)"
   ]
  },
  {
   "cell_type": "code",
   "execution_count": 45,
   "id": "d010a992",
   "metadata": {},
   "outputs": [],
   "source": [
    "kpmf_model_dif = KPMF(n_epochs=20, n_factors=8, learning_rate=0.005, regularization=0.01, kernel='dif')"
   ]
  },
  {
   "cell_type": "code",
   "execution_count": 47,
   "id": "08a9610d",
   "metadata": {},
   "outputs": [
    {
     "name": "stdout",
     "output_type": "stream",
     "text": [
      "Obrada podataka...\n",
      "Inicijalizacija u i v...\n",
      "Ucenje...\n",
      "Epoha 1:\n",
      "train loss: 2.034656779099807; val loss:2.1453853231795676\n",
      "Epoha 2:\n",
      "train loss: 1.4517505308321745; val loss:1.5749949762083761\n",
      "Epoha 3:\n",
      "train loss: 1.1968432648877851; val loss:1.3238002512126918\n",
      "Epoha 4:\n",
      "train loss: 1.060908378215046; val loss:1.1897959673852347\n",
      "Epoha 5:\n",
      "train loss: 0.9807841816475248; val loss:1.1112648807492331\n",
      "Epoha 6:\n",
      "train loss: 0.9305300334814798; val loss:1.0625910517717667\n",
      "Epoha 7:\n",
      "train loss: 0.8974906797472666; val loss:1.031195948974516\n",
      "Epoha 8:\n",
      "train loss: 0.8748542741416929; val loss:1.010277877131045\n",
      "Epoha 9:\n",
      "train loss: 0.8587402642932661; val loss:0.9959445242167072\n",
      "Epoha 10:\n",
      "train loss: 0.8468514001249089; val loss:0.9858812403232851\n",
      "Epoha 11:\n",
      "train loss: 0.8377841191795884; val loss:0.9786682683632139\n",
      "Epoha 12:\n",
      "train loss: 0.8306556597155235; val loss:0.9734101863692216\n",
      "Epoha 13:\n",
      "train loss: 0.8248952797756708; val loss:0.969527346173675\n",
      "Epoha 14:\n",
      "train loss: 0.8201241245116528; val loss:0.9666351570787126\n",
      "Epoha 15:\n",
      "train loss: 0.816084359947665; val loss:0.9644724567987296\n",
      "Epoha 16:\n",
      "train loss: 0.8125963517961766; val loss:0.9628579979432483\n",
      "Epoha 17:\n",
      "train loss: 0.8095321773416672; val loss:0.9616634103428302\n",
      "Epoha 18:\n",
      "train loss: 0.8067988652878708; val loss:0.9607960336525421\n",
      "Epoha 19:\n",
      "train loss: 0.8043275586211628; val loss:0.9601877908521631\n",
      "Epoha 20:\n",
      "train loss: 0.8020663617483155; val loss:0.959787835806188\n"
     ]
    }
   ],
   "source": [
    "kpmf_model_dif.fit(df_user_artists_train, df_user_artists_val, df_user_friends, df_user_tagged_artists)"
   ]
  },
  {
   "cell_type": "code",
   "execution_count": 54,
   "id": "87c2bdef",
   "metadata": {},
   "outputs": [],
   "source": [
    "kpmf_model_rbf = KPMF(n_epochs=10, n_factors=8, learning_rate=0.01, regularization=0.01, kernel='rbf')"
   ]
  },
  {
   "cell_type": "code",
   "execution_count": 56,
   "id": "0d157b7e",
   "metadata": {},
   "outputs": [
    {
     "name": "stdout",
     "output_type": "stream",
     "text": [
      "Obrada podataka...\n",
      "Inicijalizacija u i v...\n"
     ]
    },
    {
     "data": {
      "application/vnd.jupyter.widget-view+json": {
       "model_id": "76ca389327934a87af273ed1d3c3b6fc",
       "version_major": 2,
       "version_minor": 0
      },
      "text/plain": [
       "Computing transition probabilities:   0%|          | 0/1860 [00:00<?, ?it/s]"
      ]
     },
     "metadata": {},
     "output_type": "display_data"
    },
    {
     "name": "stderr",
     "output_type": "stream",
     "text": [
      "Generating walks (CPU: 1): 100%|██████████| 100/100 [00:49<00:00,  2.01it/s]\n"
     ]
    },
    {
     "name": "stdout",
     "output_type": "stream",
     "text": [
      "Ucenje...\n",
      "Epoha 1:\n"
     ]
    },
    {
     "data": {
      "application/vnd.jupyter.widget-view+json": {
       "model_id": "3a7118b35400408b9599dd1d365f568e",
       "version_major": 2,
       "version_minor": 0
      },
      "text/plain": [
       "Computing transition probabilities:   0%|          | 0/1860 [00:00<?, ?it/s]"
      ]
     },
     "metadata": {},
     "output_type": "display_data"
    },
    {
     "name": "stderr",
     "output_type": "stream",
     "text": [
      "Generating walks (CPU: 1): 100%|██████████| 100/100 [00:43<00:00,  2.32it/s]\n"
     ]
    },
    {
     "name": "stdout",
     "output_type": "stream",
     "text": [
      "train loss: 1.783713707621516; val loss:1.9144220039144408\n",
      "Epoha 2:\n"
     ]
    },
    {
     "data": {
      "application/vnd.jupyter.widget-view+json": {
       "model_id": "834415d46eae4d409cee59cf99983bc2",
       "version_major": 2,
       "version_minor": 0
      },
      "text/plain": [
       "Computing transition probabilities:   0%|          | 0/1860 [00:00<?, ?it/s]"
      ]
     },
     "metadata": {},
     "output_type": "display_data"
    },
    {
     "name": "stderr",
     "output_type": "stream",
     "text": [
      "Generating walks (CPU: 1): 100%|██████████| 100/100 [00:43<00:00,  2.31it/s]\n"
     ]
    },
    {
     "name": "stdout",
     "output_type": "stream",
     "text": [
      "train loss: 1.0906790279225747; val loss:1.231043181424569\n",
      "Epoha 3:\n"
     ]
    },
    {
     "data": {
      "application/vnd.jupyter.widget-view+json": {
       "model_id": "4e863f57165845b8ba9e1fe290a5a8aa",
       "version_major": 2,
       "version_minor": 0
      },
      "text/plain": [
       "Computing transition probabilities:   0%|          | 0/1860 [00:00<?, ?it/s]"
      ]
     },
     "metadata": {},
     "output_type": "display_data"
    },
    {
     "name": "stderr",
     "output_type": "stream",
     "text": [
      "Generating walks (CPU: 1): 100%|██████████| 100/100 [00:54<00:00,  1.84it/s]\n"
     ]
    },
    {
     "name": "stdout",
     "output_type": "stream",
     "text": [
      "train loss: 0.9198251363562284; val loss:1.050711576303737\n",
      "Epoha 4:\n"
     ]
    },
    {
     "data": {
      "application/vnd.jupyter.widget-view+json": {
       "model_id": "0e816634b38d42da9a87b42c70e6ea16",
       "version_major": 2,
       "version_minor": 0
      },
      "text/plain": [
       "Computing transition probabilities:   0%|          | 0/1860 [00:00<?, ?it/s]"
      ]
     },
     "metadata": {},
     "output_type": "display_data"
    },
    {
     "name": "stderr",
     "output_type": "stream",
     "text": [
      "Generating walks (CPU: 1): 100%|██████████| 100/100 [00:43<00:00,  2.32it/s]\n"
     ]
    },
    {
     "name": "stdout",
     "output_type": "stream",
     "text": [
      "train loss: 0.8662270678715072; val loss:0.9942187169252921\n",
      "Epoha 5:\n"
     ]
    },
    {
     "data": {
      "application/vnd.jupyter.widget-view+json": {
       "model_id": "b3b8937e01904d79ad16394700ffd91c",
       "version_major": 2,
       "version_minor": 0
      },
      "text/plain": [
       "Computing transition probabilities:   0%|          | 0/1860 [00:00<?, ?it/s]"
      ]
     },
     "metadata": {},
     "output_type": "display_data"
    },
    {
     "name": "stderr",
     "output_type": "stream",
     "text": [
      "Generating walks (CPU: 1): 100%|██████████| 100/100 [00:43<00:00,  2.27it/s]\n"
     ]
    },
    {
     "name": "stdout",
     "output_type": "stream",
     "text": [
      "train loss: 0.8421846498504625; val loss:0.9719346427737043\n",
      "Epoha 6:\n"
     ]
    },
    {
     "data": {
      "application/vnd.jupyter.widget-view+json": {
       "model_id": "69582dbd26d846c8b34cd9d47408db29",
       "version_major": 2,
       "version_minor": 0
      },
      "text/plain": [
       "Computing transition probabilities:   0%|          | 0/1860 [00:00<?, ?it/s]"
      ]
     },
     "metadata": {},
     "output_type": "display_data"
    },
    {
     "name": "stderr",
     "output_type": "stream",
     "text": [
      "Generating walks (CPU: 1): 100%|██████████| 100/100 [00:43<00:00,  2.31it/s]\n"
     ]
    },
    {
     "name": "stdout",
     "output_type": "stream",
     "text": [
      "train loss: 0.8280632433056112; val loss:0.9608986441485207\n",
      "Epoha 7:\n"
     ]
    },
    {
     "data": {
      "application/vnd.jupyter.widget-view+json": {
       "model_id": "b7d248361877455dafb588c6b269c6f3",
       "version_major": 2,
       "version_minor": 0
      },
      "text/plain": [
       "Computing transition probabilities:   0%|          | 0/1860 [00:00<?, ?it/s]"
      ]
     },
     "metadata": {},
     "output_type": "display_data"
    },
    {
     "name": "stderr",
     "output_type": "stream",
     "text": [
      "Generating walks (CPU: 1): 100%|██████████| 100/100 [00:43<00:00,  2.29it/s]\n"
     ]
    },
    {
     "name": "stdout",
     "output_type": "stream",
     "text": [
      "train loss: 0.8174871240301366; val loss:0.955232471959957\n",
      "Epoha 8:\n"
     ]
    },
    {
     "data": {
      "application/vnd.jupyter.widget-view+json": {
       "model_id": "be02f2c6c35b453ca04d0e7f69ddf61d",
       "version_major": 2,
       "version_minor": 0
      },
      "text/plain": [
       "Computing transition probabilities:   0%|          | 0/1860 [00:00<?, ?it/s]"
      ]
     },
     "metadata": {},
     "output_type": "display_data"
    },
    {
     "name": "stderr",
     "output_type": "stream",
     "text": [
      "Generating walks (CPU: 1): 100%|██████████| 100/100 [00:43<00:00,  2.32it/s]\n"
     ]
    },
    {
     "name": "stdout",
     "output_type": "stream",
     "text": [
      "train loss: 0.8094937358779164; val loss:0.9522911388924835\n",
      "Epoha 9:\n"
     ]
    },
    {
     "data": {
      "application/vnd.jupyter.widget-view+json": {
       "model_id": "0c6cbf80d4b546cf9b0906a238997f65",
       "version_major": 2,
       "version_minor": 0
      },
      "text/plain": [
       "Computing transition probabilities:   0%|          | 0/1860 [00:00<?, ?it/s]"
      ]
     },
     "metadata": {},
     "output_type": "display_data"
    },
    {
     "name": "stderr",
     "output_type": "stream",
     "text": [
      "Generating walks (CPU: 1): 100%|██████████| 100/100 [00:42<00:00,  2.33it/s]\n"
     ]
    },
    {
     "name": "stdout",
     "output_type": "stream",
     "text": [
      "train loss: 0.8017641045134678; val loss:0.9492556058405064\n",
      "Epoha 10:\n"
     ]
    },
    {
     "data": {
      "application/vnd.jupyter.widget-view+json": {
       "model_id": "c070f4aba9144722ab8b965c49b8c01f",
       "version_major": 2,
       "version_minor": 0
      },
      "text/plain": [
       "Computing transition probabilities:   0%|          | 0/1860 [00:00<?, ?it/s]"
      ]
     },
     "metadata": {},
     "output_type": "display_data"
    },
    {
     "name": "stderr",
     "output_type": "stream",
     "text": [
      "Generating walks (CPU: 1): 100%|██████████| 100/100 [00:44<00:00,  2.23it/s]\n"
     ]
    },
    {
     "name": "stdout",
     "output_type": "stream",
     "text": [
      "train loss: 0.7949098866988585; val loss:0.9480877303969146\n"
     ]
    }
   ],
   "source": [
    "kpmf_model_rbf.fit(df_user_artists_train, df_user_artists_val, df_user_friends, df_user_tagged_artists)"
   ]
  },
  {
   "cell_type": "code",
   "execution_count": 90,
   "id": "99ccc542",
   "metadata": {},
   "outputs": [],
   "source": [
    "# Čuvanje modela\n",
    "save_model(kpmf_model_ct, 'models/kpmf_final_ct.sav')\n",
    "save_model(kpmf_model_reg, 'models/kpmf_final_reg.sav')\n",
    "save_model(kpmf_model_dif, 'models/kpmf_final_dif.sav')\n",
    "save_model(kpmf_model_rbf, 'models/kpmf_final_rbf.sav')"
   ]
  },
  {
   "cell_type": "markdown",
   "id": "5298ef7b",
   "metadata": {},
   "source": [
    "### Grafički i tabelarni prikaz rezultata za metodu KPMF"
   ]
  },
  {
   "cell_type": "code",
   "execution_count": 58,
   "id": "6ffdfe11",
   "metadata": {},
   "outputs": [],
   "source": [
    "# Sledeća funkcija se koristi za iscrtavanje grafika funkcije gubitka nakon treniranja na trening i validacionom skupu\n",
    "# u zavisnosti od izabranog kernela u metodi KPMF\n",
    "def plot_graphs(models, n_epochs, kernels):\n",
    "    fig, ax = plt.subplots(nrows=2, ncols=2)\n",
    "    fig.set_size_inches(13, 12)\n",
    "    i = 0\n",
    "    for row in range(2):\n",
    "        for col in range(2):\n",
    "            ax[row, col].plot(range(0, n_epochs[i]), models[i].train_loss_per_epoch, color='royalblue', label='training')\n",
    "            ax[row, col].plot(range(0, n_epochs[i]), models[i].val_loss_per_epoch, color='pink', label='validation')\n",
    "            ax[row, col].set_xlabel('epoch')\n",
    "            ax[row, col].set_ylabel('rmse')\n",
    "            ax[row, col].legend(loc = 'best')\n",
    "            ax[row, col].set_title(kernels[i])\n",
    "            i +=1\n",
    "            plt.show\n",
    "    plt.suptitle('Kretanje funkcije gubitka na trening skupu i validacionom skupu', fontsize=20)"
   ]
  },
  {
   "cell_type": "code",
   "execution_count": 59,
   "id": "aa4bd5c0",
   "metadata": {},
   "outputs": [
    {
     "data": {
      "image/png": "[encoded data removed]",
      "text/plain": [
       "<Figure size 936x864 with 4 Axes>"
      ]
     },
     "metadata": {
      "needs_background": "light"
     },
     "output_type": "display_data"
    }
   ],
   "source": [
    "models = [kpmf_model_ct, kpmf_model_reg, kpmf_model_dif, kpmf_model_rbf]\n",
    "n_epochs = [kpmf_model_ct.n_epochs, kpmf_model_reg.n_epochs, kpmf_model_dif.n_epochs, kpmf_model_rbf.n_epochs]\n",
    "kernels = ['Loss Commute Time Kernel', 'Loss Regularized Laplacian Kernel', 'Loss Diffusion Kernel', 'Loss RBF Kernel']\n",
    "plot_graphs(models, n_epochs, kernels)"
   ]
  },
  {
   "cell_type": "code",
   "execution_count": 60,
   "id": "a10b8fb2",
   "metadata": {},
   "outputs": [],
   "source": [
    "# Predikcije KPMF modela i greška na test skupu.\n",
    "df_pred_kpmf_ct, pred_loss_kpmf_ct = kpmf_model_ct.predict(df_user_artists_test)\n",
    "df_pred_kpmf_reg, pred_loss_kpmf_reg = kpmf_model_reg.predict(df_user_artists_test)\n",
    "df_pred_kpmf_dif, pred_loss_kpmf_dif = kpmf_model_dif.predict(df_user_artists_test)\n",
    "df_pred_kpmf_rbf, pred_loss_kpmf_rbf = kpmf_model_rbf.predict(df_user_artists_test)"
   ]
  },
  {
   "cell_type": "markdown",
   "id": "15ceda74",
   "metadata": {},
   "source": [
    "Prikazujemo prvih 10 rejtinga i predikcija rejtinga za par korisnik/izvođač za svaki od obučenih modela sa različitim jezgrima. "
   ]
  },
  {
   "cell_type": "code",
   "execution_count": 61,
   "id": "8c811d85",
   "metadata": {},
   "outputs": [
    {
     "data": {
      "text/html": [
       "<style type=\"text/css\">\n",
       "</style>\n",
       "<table id=\"T_f8f4a_\">\n",
       "  <caption>Predikcije KPMF modela sa kernelom prosječnog vremena obilaska (CT kernel)</caption>\n",
       "  <thead>\n",
       "    <tr>\n",
       "      <th class=\"blank level0\" >&nbsp;</th>\n",
       "      <th class=\"col_heading level0 col0\" >userID</th>\n",
       "      <th class=\"col_heading level0 col1\" >artistID</th>\n",
       "      <th class=\"col_heading level0 col2\" >rating</th>\n",
       "      <th class=\"col_heading level0 col3\" >prediction</th>\n",
       "    </tr>\n",
       "  </thead>\n",
       "  <tbody>\n",
       "    <tr>\n",
       "      <th id=\"T_f8f4a_level0_row0\" class=\"row_heading level0 row0\" >73070</th>\n",
       "      <td id=\"T_f8f4a_row0_col0\" class=\"data row0 col0\" >1649</td>\n",
       "      <td id=\"T_f8f4a_row0_col1\" class=\"data row0 col1\" >1034</td>\n",
       "      <td id=\"T_f8f4a_row0_col2\" class=\"data row0 col2\" >6.792344</td>\n",
       "      <td id=\"T_f8f4a_row0_col3\" class=\"data row0 col3\" >6.720080</td>\n",
       "    </tr>\n",
       "    <tr>\n",
       "      <th id=\"T_f8f4a_level0_row1\" class=\"row_heading level0 row1\" >51603</th>\n",
       "      <td id=\"T_f8f4a_row1_col0\" class=\"data row1 col0\" >1149</td>\n",
       "      <td id=\"T_f8f4a_row1_col1\" class=\"data row1 col1\" >193</td>\n",
       "      <td id=\"T_f8f4a_row1_col2\" class=\"data row1 col2\" >2.708050</td>\n",
       "      <td id=\"T_f8f4a_row1_col3\" class=\"data row1 col3\" >2.721446</td>\n",
       "    </tr>\n",
       "    <tr>\n",
       "      <th id=\"T_f8f4a_level0_row2\" class=\"row_heading level0 row2\" >64800</th>\n",
       "      <td id=\"T_f8f4a_row2_col0\" class=\"data row2 col0\" >1459</td>\n",
       "      <td id=\"T_f8f4a_row2_col1\" class=\"data row2 col1\" >604</td>\n",
       "      <td id=\"T_f8f4a_row2_col2\" class=\"data row2 col2\" >5.010635</td>\n",
       "      <td id=\"T_f8f4a_row2_col3\" class=\"data row2 col3\" >4.014862</td>\n",
       "    </tr>\n",
       "    <tr>\n",
       "      <th id=\"T_f8f4a_level0_row3\" class=\"row_heading level0 row3\" >12626</th>\n",
       "      <td id=\"T_f8f4a_row3_col0\" class=\"data row3 col0\" >274</td>\n",
       "      <td id=\"T_f8f4a_row3_col1\" class=\"data row3 col1\" >1072</td>\n",
       "      <td id=\"T_f8f4a_row3_col2\" class=\"data row3 col2\" >5.214936</td>\n",
       "      <td id=\"T_f8f4a_row3_col3\" class=\"data row3 col3\" >5.017971</td>\n",
       "    </tr>\n",
       "    <tr>\n",
       "      <th id=\"T_f8f4a_level0_row4\" class=\"row_heading level0 row4\" >5776</th>\n",
       "      <td id=\"T_f8f4a_row4_col0\" class=\"data row4 col0\" >122</td>\n",
       "      <td id=\"T_f8f4a_row4_col1\" class=\"data row4 col1\" >1244</td>\n",
       "      <td id=\"T_f8f4a_row4_col2\" class=\"data row4 col2\" >2.708050</td>\n",
       "      <td id=\"T_f8f4a_row4_col3\" class=\"data row4 col3\" >2.683962</td>\n",
       "    </tr>\n",
       "    <tr>\n",
       "      <th id=\"T_f8f4a_level0_row5\" class=\"row_heading level0 row5\" >80975</th>\n",
       "      <td id=\"T_f8f4a_row5_col0\" class=\"data row5 col0\" >1829</td>\n",
       "      <td id=\"T_f8f4a_row5_col1\" class=\"data row5 col1\" >67</td>\n",
       "      <td id=\"T_f8f4a_row5_col2\" class=\"data row5 col2\" >5.869297</td>\n",
       "      <td id=\"T_f8f4a_row5_col3\" class=\"data row5 col3\" >8.013516</td>\n",
       "    </tr>\n",
       "    <tr>\n",
       "      <th id=\"T_f8f4a_level0_row6\" class=\"row_heading level0 row6\" >64779</th>\n",
       "      <td id=\"T_f8f4a_row6_col0\" class=\"data row6 col0\" >1458</td>\n",
       "      <td id=\"T_f8f4a_row6_col1\" class=\"data row6 col1\" >2544</td>\n",
       "      <td id=\"T_f8f4a_row6_col2\" class=\"data row6 col2\" >3.178054</td>\n",
       "      <td id=\"T_f8f4a_row6_col3\" class=\"data row6 col3\" >2.974482</td>\n",
       "    </tr>\n",
       "    <tr>\n",
       "      <th id=\"T_f8f4a_level0_row7\" class=\"row_heading level0 row7\" >70429</th>\n",
       "      <td id=\"T_f8f4a_row7_col0\" class=\"data row7 col0\" >1587</td>\n",
       "      <td id=\"T_f8f4a_row7_col1\" class=\"data row7 col1\" >53</td>\n",
       "      <td id=\"T_f8f4a_row7_col2\" class=\"data row7 col2\" >6.357842</td>\n",
       "      <td id=\"T_f8f4a_row7_col3\" class=\"data row7 col3\" >6.729701</td>\n",
       "    </tr>\n",
       "    <tr>\n",
       "      <th id=\"T_f8f4a_level0_row8\" class=\"row_heading level0 row8\" >49392</th>\n",
       "      <td id=\"T_f8f4a_row8_col0\" class=\"data row8 col0\" >1098</td>\n",
       "      <td id=\"T_f8f4a_row8_col1\" class=\"data row8 col1\" >57</td>\n",
       "      <td id=\"T_f8f4a_row8_col2\" class=\"data row8 col2\" >3.871201</td>\n",
       "      <td id=\"T_f8f4a_row8_col3\" class=\"data row8 col3\" >2.595818</td>\n",
       "    </tr>\n",
       "  </tbody>\n",
       "</table>\n"
      ],
      "text/plain": [
       "<pandas.io.formats.style.Styler at 0x1b595d50c40>"
      ]
     },
     "execution_count": 61,
     "metadata": {},
     "output_type": "execute_result"
    }
   ],
   "source": [
    "df_pred_kpmf_ct.drop(columns=['weight'])[1:10].style.set_caption(\"Predikcije KPMF modela sa kernelom prosječnog vremena obilaska (CT kernel)\")"
   ]
  },
  {
   "cell_type": "code",
   "execution_count": 62,
   "id": "aa20890e",
   "metadata": {},
   "outputs": [
    {
     "data": {
      "text/html": [
       "<style type=\"text/css\">\n",
       "</style>\n",
       "<table id=\"T_9d1aa_\">\n",
       "  <caption>Predikcije KPMF modela sa regularizacionim Laplasovim jezgrom</caption>\n",
       "  <thead>\n",
       "    <tr>\n",
       "      <th class=\"blank level0\" >&nbsp;</th>\n",
       "      <th class=\"col_heading level0 col0\" >userID</th>\n",
       "      <th class=\"col_heading level0 col1\" >artistID</th>\n",
       "      <th class=\"col_heading level0 col2\" >rating</th>\n",
       "      <th class=\"col_heading level0 col3\" >prediction</th>\n",
       "    </tr>\n",
       "  </thead>\n",
       "  <tbody>\n",
       "    <tr>\n",
       "      <th id=\"T_9d1aa_level0_row0\" class=\"row_heading level0 row0\" >73070</th>\n",
       "      <td id=\"T_9d1aa_row0_col0\" class=\"data row0 col0\" >1649</td>\n",
       "      <td id=\"T_9d1aa_row0_col1\" class=\"data row0 col1\" >1034</td>\n",
       "      <td id=\"T_9d1aa_row0_col2\" class=\"data row0 col2\" >6.792344</td>\n",
       "      <td id=\"T_9d1aa_row0_col3\" class=\"data row0 col3\" >7.006151</td>\n",
       "    </tr>\n",
       "    <tr>\n",
       "      <th id=\"T_9d1aa_level0_row1\" class=\"row_heading level0 row1\" >51603</th>\n",
       "      <td id=\"T_9d1aa_row1_col0\" class=\"data row1 col0\" >1149</td>\n",
       "      <td id=\"T_9d1aa_row1_col1\" class=\"data row1 col1\" >193</td>\n",
       "      <td id=\"T_9d1aa_row1_col2\" class=\"data row1 col2\" >2.708050</td>\n",
       "      <td id=\"T_9d1aa_row1_col3\" class=\"data row1 col3\" >2.957535</td>\n",
       "    </tr>\n",
       "    <tr>\n",
       "      <th id=\"T_9d1aa_level0_row2\" class=\"row_heading level0 row2\" >64800</th>\n",
       "      <td id=\"T_9d1aa_row2_col0\" class=\"data row2 col0\" >1459</td>\n",
       "      <td id=\"T_9d1aa_row2_col1\" class=\"data row2 col1\" >604</td>\n",
       "      <td id=\"T_9d1aa_row2_col2\" class=\"data row2 col2\" >5.010635</td>\n",
       "      <td id=\"T_9d1aa_row2_col3\" class=\"data row2 col3\" >3.136722</td>\n",
       "    </tr>\n",
       "    <tr>\n",
       "      <th id=\"T_9d1aa_level0_row3\" class=\"row_heading level0 row3\" >12626</th>\n",
       "      <td id=\"T_9d1aa_row3_col0\" class=\"data row3 col0\" >274</td>\n",
       "      <td id=\"T_9d1aa_row3_col1\" class=\"data row3 col1\" >1072</td>\n",
       "      <td id=\"T_9d1aa_row3_col2\" class=\"data row3 col2\" >5.214936</td>\n",
       "      <td id=\"T_9d1aa_row3_col3\" class=\"data row3 col3\" >4.376582</td>\n",
       "    </tr>\n",
       "    <tr>\n",
       "      <th id=\"T_9d1aa_level0_row4\" class=\"row_heading level0 row4\" >5776</th>\n",
       "      <td id=\"T_9d1aa_row4_col0\" class=\"data row4 col0\" >122</td>\n",
       "      <td id=\"T_9d1aa_row4_col1\" class=\"data row4 col1\" >1244</td>\n",
       "      <td id=\"T_9d1aa_row4_col2\" class=\"data row4 col2\" >2.708050</td>\n",
       "      <td id=\"T_9d1aa_row4_col3\" class=\"data row4 col3\" >1.735867</td>\n",
       "    </tr>\n",
       "    <tr>\n",
       "      <th id=\"T_9d1aa_level0_row5\" class=\"row_heading level0 row5\" >80975</th>\n",
       "      <td id=\"T_9d1aa_row5_col0\" class=\"data row5 col0\" >1829</td>\n",
       "      <td id=\"T_9d1aa_row5_col1\" class=\"data row5 col1\" >67</td>\n",
       "      <td id=\"T_9d1aa_row5_col2\" class=\"data row5 col2\" >5.869297</td>\n",
       "      <td id=\"T_9d1aa_row5_col3\" class=\"data row5 col3\" >7.186669</td>\n",
       "    </tr>\n",
       "    <tr>\n",
       "      <th id=\"T_9d1aa_level0_row6\" class=\"row_heading level0 row6\" >64779</th>\n",
       "      <td id=\"T_9d1aa_row6_col0\" class=\"data row6 col0\" >1458</td>\n",
       "      <td id=\"T_9d1aa_row6_col1\" class=\"data row6 col1\" >2544</td>\n",
       "      <td id=\"T_9d1aa_row6_col2\" class=\"data row6 col2\" >3.178054</td>\n",
       "      <td id=\"T_9d1aa_row6_col3\" class=\"data row6 col3\" >3.339315</td>\n",
       "    </tr>\n",
       "    <tr>\n",
       "      <th id=\"T_9d1aa_level0_row7\" class=\"row_heading level0 row7\" >70429</th>\n",
       "      <td id=\"T_9d1aa_row7_col0\" class=\"data row7 col0\" >1587</td>\n",
       "      <td id=\"T_9d1aa_row7_col1\" class=\"data row7 col1\" >53</td>\n",
       "      <td id=\"T_9d1aa_row7_col2\" class=\"data row7 col2\" >6.357842</td>\n",
       "      <td id=\"T_9d1aa_row7_col3\" class=\"data row7 col3\" >5.859842</td>\n",
       "    </tr>\n",
       "    <tr>\n",
       "      <th id=\"T_9d1aa_level0_row8\" class=\"row_heading level0 row8\" >49392</th>\n",
       "      <td id=\"T_9d1aa_row8_col0\" class=\"data row8 col0\" >1098</td>\n",
       "      <td id=\"T_9d1aa_row8_col1\" class=\"data row8 col1\" >57</td>\n",
       "      <td id=\"T_9d1aa_row8_col2\" class=\"data row8 col2\" >3.871201</td>\n",
       "      <td id=\"T_9d1aa_row8_col3\" class=\"data row8 col3\" >2.561102</td>\n",
       "    </tr>\n",
       "  </tbody>\n",
       "</table>\n"
      ],
      "text/plain": [
       "<pandas.io.formats.style.Styler at 0x1b595d64910>"
      ]
     },
     "execution_count": 62,
     "metadata": {},
     "output_type": "execute_result"
    }
   ],
   "source": [
    "df_pred_kpmf_reg.drop(columns=['weight'])[1:10].style.set_caption(\"Predikcije KPMF modela sa regularizacionim Laplasovim jezgrom\")"
   ]
  },
  {
   "cell_type": "code",
   "execution_count": 63,
   "id": "f83e055d",
   "metadata": {},
   "outputs": [
    {
     "data": {
      "text/html": [
       "<style type=\"text/css\">\n",
       "</style>\n",
       "<table id=\"T_1f61b_\">\n",
       "  <caption>Predikcije KPMF modela sa difuzionim kernelom</caption>\n",
       "  <thead>\n",
       "    <tr>\n",
       "      <th class=\"blank level0\" >&nbsp;</th>\n",
       "      <th class=\"col_heading level0 col0\" >userID</th>\n",
       "      <th class=\"col_heading level0 col1\" >artistID</th>\n",
       "      <th class=\"col_heading level0 col2\" >rating</th>\n",
       "      <th class=\"col_heading level0 col3\" >prediction</th>\n",
       "    </tr>\n",
       "  </thead>\n",
       "  <tbody>\n",
       "    <tr>\n",
       "      <th id=\"T_1f61b_level0_row0\" class=\"row_heading level0 row0\" >73070</th>\n",
       "      <td id=\"T_1f61b_row0_col0\" class=\"data row0 col0\" >1649</td>\n",
       "      <td id=\"T_1f61b_row0_col1\" class=\"data row0 col1\" >1034</td>\n",
       "      <td id=\"T_1f61b_row0_col2\" class=\"data row0 col2\" >6.792344</td>\n",
       "      <td id=\"T_1f61b_row0_col3\" class=\"data row0 col3\" >7.208949</td>\n",
       "    </tr>\n",
       "    <tr>\n",
       "      <th id=\"T_1f61b_level0_row1\" class=\"row_heading level0 row1\" >51603</th>\n",
       "      <td id=\"T_1f61b_row1_col0\" class=\"data row1 col0\" >1149</td>\n",
       "      <td id=\"T_1f61b_row1_col1\" class=\"data row1 col1\" >193</td>\n",
       "      <td id=\"T_1f61b_row1_col2\" class=\"data row1 col2\" >2.708050</td>\n",
       "      <td id=\"T_1f61b_row1_col3\" class=\"data row1 col3\" >3.183043</td>\n",
       "    </tr>\n",
       "    <tr>\n",
       "      <th id=\"T_1f61b_level0_row2\" class=\"row_heading level0 row2\" >64800</th>\n",
       "      <td id=\"T_1f61b_row2_col0\" class=\"data row2 col0\" >1459</td>\n",
       "      <td id=\"T_1f61b_row2_col1\" class=\"data row2 col1\" >604</td>\n",
       "      <td id=\"T_1f61b_row2_col2\" class=\"data row2 col2\" >5.010635</td>\n",
       "      <td id=\"T_1f61b_row2_col3\" class=\"data row2 col3\" >4.707613</td>\n",
       "    </tr>\n",
       "    <tr>\n",
       "      <th id=\"T_1f61b_level0_row3\" class=\"row_heading level0 row3\" >12626</th>\n",
       "      <td id=\"T_1f61b_row3_col0\" class=\"data row3 col0\" >274</td>\n",
       "      <td id=\"T_1f61b_row3_col1\" class=\"data row3 col1\" >1072</td>\n",
       "      <td id=\"T_1f61b_row3_col2\" class=\"data row3 col2\" >5.214936</td>\n",
       "      <td id=\"T_1f61b_row3_col3\" class=\"data row3 col3\" >6.129938</td>\n",
       "    </tr>\n",
       "    <tr>\n",
       "      <th id=\"T_1f61b_level0_row4\" class=\"row_heading level0 row4\" >5776</th>\n",
       "      <td id=\"T_1f61b_row4_col0\" class=\"data row4 col0\" >122</td>\n",
       "      <td id=\"T_1f61b_row4_col1\" class=\"data row4 col1\" >1244</td>\n",
       "      <td id=\"T_1f61b_row4_col2\" class=\"data row4 col2\" >2.708050</td>\n",
       "      <td id=\"T_1f61b_row4_col3\" class=\"data row4 col3\" >3.578441</td>\n",
       "    </tr>\n",
       "    <tr>\n",
       "      <th id=\"T_1f61b_level0_row5\" class=\"row_heading level0 row5\" >80975</th>\n",
       "      <td id=\"T_1f61b_row5_col0\" class=\"data row5 col0\" >1829</td>\n",
       "      <td id=\"T_1f61b_row5_col1\" class=\"data row5 col1\" >67</td>\n",
       "      <td id=\"T_1f61b_row5_col2\" class=\"data row5 col2\" >5.869297</td>\n",
       "      <td id=\"T_1f61b_row5_col3\" class=\"data row5 col3\" >7.478610</td>\n",
       "    </tr>\n",
       "    <tr>\n",
       "      <th id=\"T_1f61b_level0_row6\" class=\"row_heading level0 row6\" >64779</th>\n",
       "      <td id=\"T_1f61b_row6_col0\" class=\"data row6 col0\" >1458</td>\n",
       "      <td id=\"T_1f61b_row6_col1\" class=\"data row6 col1\" >2544</td>\n",
       "      <td id=\"T_1f61b_row6_col2\" class=\"data row6 col2\" >3.178054</td>\n",
       "      <td id=\"T_1f61b_row6_col3\" class=\"data row6 col3\" >2.995024</td>\n",
       "    </tr>\n",
       "    <tr>\n",
       "      <th id=\"T_1f61b_level0_row7\" class=\"row_heading level0 row7\" >70429</th>\n",
       "      <td id=\"T_1f61b_row7_col0\" class=\"data row7 col0\" >1587</td>\n",
       "      <td id=\"T_1f61b_row7_col1\" class=\"data row7 col1\" >53</td>\n",
       "      <td id=\"T_1f61b_row7_col2\" class=\"data row7 col2\" >6.357842</td>\n",
       "      <td id=\"T_1f61b_row7_col3\" class=\"data row7 col3\" >6.635634</td>\n",
       "    </tr>\n",
       "    <tr>\n",
       "      <th id=\"T_1f61b_level0_row8\" class=\"row_heading level0 row8\" >49392</th>\n",
       "      <td id=\"T_1f61b_row8_col0\" class=\"data row8 col0\" >1098</td>\n",
       "      <td id=\"T_1f61b_row8_col1\" class=\"data row8 col1\" >57</td>\n",
       "      <td id=\"T_1f61b_row8_col2\" class=\"data row8 col2\" >3.871201</td>\n",
       "      <td id=\"T_1f61b_row8_col3\" class=\"data row8 col3\" >2.927265</td>\n",
       "    </tr>\n",
       "  </tbody>\n",
       "</table>\n"
      ],
      "text/plain": [
       "<pandas.io.formats.style.Styler at 0x1b59a75c940>"
      ]
     },
     "execution_count": 63,
     "metadata": {},
     "output_type": "execute_result"
    }
   ],
   "source": [
    "df_pred_kpmf_dif.drop(columns=['weight'])[1:10].style.set_caption(\"Predikcije KPMF modela sa difuzionim kernelom\")"
   ]
  },
  {
   "cell_type": "code",
   "execution_count": 64,
   "id": "dbd7a38a",
   "metadata": {},
   "outputs": [
    {
     "data": {
      "text/html": [
       "<style type=\"text/css\">\n",
       "</style>\n",
       "<table id=\"T_c685e_\">\n",
       "  <caption>Predikcije KPMF modela sa RBF kernelom</caption>\n",
       "  <thead>\n",
       "    <tr>\n",
       "      <th class=\"blank level0\" >&nbsp;</th>\n",
       "      <th class=\"col_heading level0 col0\" >userID</th>\n",
       "      <th class=\"col_heading level0 col1\" >artistID</th>\n",
       "      <th class=\"col_heading level0 col2\" >rating</th>\n",
       "      <th class=\"col_heading level0 col3\" >prediction</th>\n",
       "    </tr>\n",
       "  </thead>\n",
       "  <tbody>\n",
       "    <tr>\n",
       "      <th id=\"T_c685e_level0_row0\" class=\"row_heading level0 row0\" >73070</th>\n",
       "      <td id=\"T_c685e_row0_col0\" class=\"data row0 col0\" >1649</td>\n",
       "      <td id=\"T_c685e_row0_col1\" class=\"data row0 col1\" >1034</td>\n",
       "      <td id=\"T_c685e_row0_col2\" class=\"data row0 col2\" >6.792344</td>\n",
       "      <td id=\"T_c685e_row0_col3\" class=\"data row0 col3\" >5.904910</td>\n",
       "    </tr>\n",
       "    <tr>\n",
       "      <th id=\"T_c685e_level0_row1\" class=\"row_heading level0 row1\" >51603</th>\n",
       "      <td id=\"T_c685e_row1_col0\" class=\"data row1 col0\" >1149</td>\n",
       "      <td id=\"T_c685e_row1_col1\" class=\"data row1 col1\" >193</td>\n",
       "      <td id=\"T_c685e_row1_col2\" class=\"data row1 col2\" >2.708050</td>\n",
       "      <td id=\"T_c685e_row1_col3\" class=\"data row1 col3\" >2.775645</td>\n",
       "    </tr>\n",
       "    <tr>\n",
       "      <th id=\"T_c685e_level0_row2\" class=\"row_heading level0 row2\" >64800</th>\n",
       "      <td id=\"T_c685e_row2_col0\" class=\"data row2 col0\" >1459</td>\n",
       "      <td id=\"T_c685e_row2_col1\" class=\"data row2 col1\" >604</td>\n",
       "      <td id=\"T_c685e_row2_col2\" class=\"data row2 col2\" >5.010635</td>\n",
       "      <td id=\"T_c685e_row2_col3\" class=\"data row2 col3\" >4.741664</td>\n",
       "    </tr>\n",
       "    <tr>\n",
       "      <th id=\"T_c685e_level0_row3\" class=\"row_heading level0 row3\" >12626</th>\n",
       "      <td id=\"T_c685e_row3_col0\" class=\"data row3 col0\" >274</td>\n",
       "      <td id=\"T_c685e_row3_col1\" class=\"data row3 col1\" >1072</td>\n",
       "      <td id=\"T_c685e_row3_col2\" class=\"data row3 col2\" >5.214936</td>\n",
       "      <td id=\"T_c685e_row3_col3\" class=\"data row3 col3\" >6.015945</td>\n",
       "    </tr>\n",
       "    <tr>\n",
       "      <th id=\"T_c685e_level0_row4\" class=\"row_heading level0 row4\" >5776</th>\n",
       "      <td id=\"T_c685e_row4_col0\" class=\"data row4 col0\" >122</td>\n",
       "      <td id=\"T_c685e_row4_col1\" class=\"data row4 col1\" >1244</td>\n",
       "      <td id=\"T_c685e_row4_col2\" class=\"data row4 col2\" >2.708050</td>\n",
       "      <td id=\"T_c685e_row4_col3\" class=\"data row4 col3\" >3.499907</td>\n",
       "    </tr>\n",
       "    <tr>\n",
       "      <th id=\"T_c685e_level0_row5\" class=\"row_heading level0 row5\" >80975</th>\n",
       "      <td id=\"T_c685e_row5_col0\" class=\"data row5 col0\" >1829</td>\n",
       "      <td id=\"T_c685e_row5_col1\" class=\"data row5 col1\" >67</td>\n",
       "      <td id=\"T_c685e_row5_col2\" class=\"data row5 col2\" >5.869297</td>\n",
       "      <td id=\"T_c685e_row5_col3\" class=\"data row5 col3\" >7.819182</td>\n",
       "    </tr>\n",
       "    <tr>\n",
       "      <th id=\"T_c685e_level0_row6\" class=\"row_heading level0 row6\" >64779</th>\n",
       "      <td id=\"T_c685e_row6_col0\" class=\"data row6 col0\" >1458</td>\n",
       "      <td id=\"T_c685e_row6_col1\" class=\"data row6 col1\" >2544</td>\n",
       "      <td id=\"T_c685e_row6_col2\" class=\"data row6 col2\" >3.178054</td>\n",
       "      <td id=\"T_c685e_row6_col3\" class=\"data row6 col3\" >3.755376</td>\n",
       "    </tr>\n",
       "    <tr>\n",
       "      <th id=\"T_c685e_level0_row7\" class=\"row_heading level0 row7\" >70429</th>\n",
       "      <td id=\"T_c685e_row7_col0\" class=\"data row7 col0\" >1587</td>\n",
       "      <td id=\"T_c685e_row7_col1\" class=\"data row7 col1\" >53</td>\n",
       "      <td id=\"T_c685e_row7_col2\" class=\"data row7 col2\" >6.357842</td>\n",
       "      <td id=\"T_c685e_row7_col3\" class=\"data row7 col3\" >6.656846</td>\n",
       "    </tr>\n",
       "    <tr>\n",
       "      <th id=\"T_c685e_level0_row8\" class=\"row_heading level0 row8\" >49392</th>\n",
       "      <td id=\"T_c685e_row8_col0\" class=\"data row8 col0\" >1098</td>\n",
       "      <td id=\"T_c685e_row8_col1\" class=\"data row8 col1\" >57</td>\n",
       "      <td id=\"T_c685e_row8_col2\" class=\"data row8 col2\" >3.871201</td>\n",
       "      <td id=\"T_c685e_row8_col3\" class=\"data row8 col3\" >3.071011</td>\n",
       "    </tr>\n",
       "  </tbody>\n",
       "</table>\n"
      ],
      "text/plain": [
       "<pandas.io.formats.style.Styler at 0x1b5adc0b6a0>"
      ]
     },
     "execution_count": 64,
     "metadata": {},
     "output_type": "execute_result"
    }
   ],
   "source": [
    "df_pred_kpmf_rbf.drop(columns = ['weight'])[1:10].style.set_caption(\"Predikcije KPMF modela sa RBF kernelom\")"
   ]
  },
  {
   "cell_type": "markdown",
   "id": "52f3d4af",
   "metadata": {},
   "source": [
    "Tabela koja prikazuje greške na trening, validacionom i test skupu KPMF modela za različita jezgra. "
   ]
  },
  {
   "cell_type": "code",
   "execution_count": 65,
   "id": "2a42a81d",
   "metadata": {},
   "outputs": [
    {
     "data": {
      "text/html": [
       "<style type=\"text/css\">\n",
       "</style>\n",
       "<table id=\"T_852e5_\">\n",
       "  <caption>Poređenje grešaka KPMF modela sa različitim jezgrima</caption>\n",
       "  <thead>\n",
       "    <tr>\n",
       "      <th class=\"blank level0\" >&nbsp;</th>\n",
       "      <th class=\"col_heading level0 col0\" >train_loss</th>\n",
       "      <th class=\"col_heading level0 col1\" >val_loss</th>\n",
       "      <th class=\"col_heading level0 col2\" >test_loss</th>\n",
       "    </tr>\n",
       "  </thead>\n",
       "  <tbody>\n",
       "    <tr>\n",
       "      <th id=\"T_852e5_level0_row0\" class=\"row_heading level0 row0\" >Commute Time</th>\n",
       "      <td id=\"T_852e5_row0_col0\" class=\"data row0 col0\" >0.783598</td>\n",
       "      <td id=\"T_852e5_row0_col1\" class=\"data row0 col1\" >1.082288</td>\n",
       "      <td id=\"T_852e5_row0_col2\" class=\"data row0 col2\" >1.080920</td>\n",
       "    </tr>\n",
       "    <tr>\n",
       "      <th id=\"T_852e5_level0_row1\" class=\"row_heading level0 row1\" >Regularized Laplacian</th>\n",
       "      <td id=\"T_852e5_row1_col0\" class=\"data row1 col0\" >0.710914</td>\n",
       "      <td id=\"T_852e5_row1_col1\" class=\"data row1 col1\" >1.170802</td>\n",
       "      <td id=\"T_852e5_row1_col2\" class=\"data row1 col2\" >1.148082</td>\n",
       "    </tr>\n",
       "    <tr>\n",
       "      <th id=\"T_852e5_level0_row2\" class=\"row_heading level0 row2\" >Diffusion</th>\n",
       "      <td id=\"T_852e5_row2_col0\" class=\"data row2 col0\" >0.802066</td>\n",
       "      <td id=\"T_852e5_row2_col1\" class=\"data row2 col1\" >0.959788</td>\n",
       "      <td id=\"T_852e5_row2_col2\" class=\"data row2 col2\" >0.955862</td>\n",
       "    </tr>\n",
       "    <tr>\n",
       "      <th id=\"T_852e5_level0_row3\" class=\"row_heading level0 row3\" >RBF</th>\n",
       "      <td id=\"T_852e5_row3_col0\" class=\"data row3 col0\" >0.794910</td>\n",
       "      <td id=\"T_852e5_row3_col1\" class=\"data row3 col1\" >0.948088</td>\n",
       "      <td id=\"T_852e5_row3_col2\" class=\"data row3 col2\" >0.951977</td>\n",
       "    </tr>\n",
       "  </tbody>\n",
       "</table>\n"
      ],
      "text/plain": [
       "<pandas.io.formats.style.Styler at 0x1b5972289a0>"
      ]
     },
     "execution_count": 65,
     "metadata": {},
     "output_type": "execute_result"
    }
   ],
   "source": [
    "initialized_data = {'train_loss': [kpmf_model_ct.train_loss, kpmf_model_reg.train_loss, kpmf_model_dif.train_loss, kpmf_model_rbf.train_loss], \n",
    "                    'val_loss': [kpmf_model_ct.val_loss, kpmf_model_reg.val_loss, kpmf_model_dif.val_loss, kpmf_model_rbf.val_loss],\n",
    "                    'test_loss': [pred_loss_kpmf_ct, pred_loss_kpmf_reg, pred_loss_kpmf_dif, pred_loss_kpmf_rbf]}\n",
    "df_errors_kpmf = pd.DataFrame(initialized_data, index=['Commute Time', 'Regularized Laplacian', 'Diffusion', 'RBF'])     \n",
    "df_errors_kpmf.style.set_caption(\"Poređenje grešaka KPMF modela sa različitim jezgrima\")"
   ]
  },
  {
   "cell_type": "markdown",
   "id": "07425946",
   "metadata": {},
   "source": [
    "### Analiza rezultata KPMF modela"
   ]
  },
  {
   "cell_type": "markdown",
   "id": "becff144",
   "metadata": {},
   "source": [
    "<div style=\"text-align: justify\"> \n",
    "Sa grafika kretanja greške na trening i validacionom skupu za KPMF modele možemo primijetiti da se svi modeli generalno dobro ponašaju. U tabelama predikcija KPMF modela vidimo da naši modeli dosta dobro i pouzdano pogađaju rejtinge koji korisnici dodjeljuju izvođačima. To znači da se greške na skupu za trening, validaciju i test ne razlikuju mnogo. \n",
    "Za sve modele, greške po epohama opadaju kao što je i očekivano i greške se stabilizuju, odnosno nema velikih oscilacija. U obučavanju modela korišćen je različit broj epoha i vrijednosti parametara modela u zavisnosti od rezultata grid search-a. Sa grafika kretanja greške na trening i validacionom skupu možemo primijetiti da kod kernela prosječnog vremena obilaska (CT) greška brzo opada i da se nakon dvadesete epohe stabilizuje i slabo opada. Stoga, za obučavanje CT modela smo mogli koristiti i manji broj epoha. Obučavanje svih modela je vremenski zahtjevno, pa bi to dovelo do uštede vremena. \n",
    "Vremenski najzahtjevniji je RBF kernel, dok je za obučavanje ostalih modela potrebno približno jednako vremena. Zbog toga je za njegovo obučavanje korišćen manji broj epoha (10). Međutim, smanjenje broja epoha ne utiče na performanse RBF modela, jer se on pokazao kao najbolji od sva četiri modela (pogledati tabelu grešaka iznad). Ono što je karakteristično za RBF model jeste da se on već nakon malog broja epoha dobro ponaša, odnosno već nakon pete epohe mu greška opadne ispod 1. <br>\n",
    "Drugi najbolji model jeste difuzioni model. On ima nešto veće greške u odnosu na RBF model, ali je za njegovo obučavanje potrebno značajno manje vremena. Ukoliko nam je jedan od prioriteta brzina obučavanja modela, onda je difuzioni model najbolji izbor. Iz tabele sa greškama KPMF modela možemo primijetiti da regularizacioni Laplasov kernel ima najmanju grešku na trening skupu u odnosu na sve ostale modele. Međutim, on ima najveće greške na validacionom i test skupu, pa je najmanje pouzdan model. Takođe, predikcije rejtinga mu najviše odstupaju od stvarnih vrijednosti (što možemo vidjeti iz njegove tabele predikcija). U ovom modelu došlo je do preprilagođavanja modela podacima. <br>\n",
    "Napominjemo da se prilikom obučavanja svih modela veliki broj puta vrši matrično množenje, što može dovesti do komputacijskih problema. Takođe, obučavanje je memorijski složeno i zahtijeva veću količinu RAM memorije. <br>\n",
    "</div>"
   ]
  },
  {
   "cell_type": "markdown",
   "id": "8870a806",
   "metadata": {},
   "source": [
    "<div style=\"text-align: justify\">  U toku izrade projekta zapaženo je da dolazi do značajnog preprilagođavanja modela podacima ukoliko se koristi velik broj latentnih faktora, a ukoliko se koristi velik broj epoha, onda model nakon određenog broja epoha prestaje da napreduje sa učenjem i počinje da se preprilagođava podacima. U nastavku slijedi obučavanje dodatnih KPMF modela koji ilustruju ponašanje modela kada ne koristimo rezultate grid search-a za izbor hiperparametara i njihova analiza. \n",
    "</div>"
   ]
  },
  {
   "cell_type": "markdown",
   "id": "76522c66",
   "metadata": {},
   "source": [
    "### Obučavanje dodatnih KPMF modela"
   ]
  },
  {
   "cell_type": "code",
   "execution_count": 68,
   "id": "65628f5d",
   "metadata": {},
   "outputs": [],
   "source": [
    "kpmf_model_dif_64factors = KPMF(n_epochs=20, n_factors=64, learning_rate=0.005, regularization=0.01, kernel='dif')"
   ]
  },
  {
   "cell_type": "code",
   "execution_count": 70,
   "id": "891881fd",
   "metadata": {},
   "outputs": [
    {
     "name": "stdout",
     "output_type": "stream",
     "text": [
      "Obrada podataka...\n",
      "Inicijalizacija u i v...\n",
      "Ucenje...\n",
      "Epoha 1:\n",
      "train loss: 1.520535172379569; val loss:1.756458894985522\n",
      "Epoha 2:\n",
      "train loss: 1.3452469315219333; val loss:1.7120713289750873\n",
      "Epoha 3:\n",
      "train loss: 1.236476124512095; val loss:1.6900367385263204\n",
      "Epoha 4:\n",
      "train loss: 1.1572476857069167; val loss:1.6747741169545043\n",
      "Epoha 5:\n",
      "train loss: 1.0946504232311365; val loss:1.6625692913082073\n",
      "Epoha 6:\n",
      "train loss: 1.0429217838604328; val loss:1.6522713105359033\n",
      "Epoha 7:\n",
      "train loss: 0.9990063075788629; val loss:1.6434287794002223\n",
      "Epoha 8:\n",
      "train loss: 0.9610599652593771; val loss:1.635813359036168\n",
      "Epoha 9:\n",
      "train loss: 0.9278553851650447; val loss:1.6292764340526964\n",
      "Epoha 10:\n",
      "train loss: 0.8985139816876858; val loss:1.6237009497667687\n",
      "Epoha 11:\n",
      "train loss: 0.8723730969005316; val loss:1.6189845044949411\n",
      "Epoha 12:\n",
      "train loss: 0.848914534378899; val loss:1.6150336303714394\n",
      "Epoha 13:\n",
      "train loss: 0.8277230973267895; val loss:1.6117621298725842\n",
      "Epoha 14:\n",
      "train loss: 0.808460698732485; val loss:1.609090752768122\n",
      "Epoha 15:\n",
      "train loss: 0.7908490381919893; val loss:1.6069471775689401\n",
      "Epoha 16:\n",
      "train loss: 0.7746572940640717; val loss:1.605265935833726\n",
      "Epoha 17:\n",
      "train loss: 0.7596929532356388; val loss:1.60398818893\n",
      "Epoha 18:\n",
      "train loss: 0.745794737268362; val loss:1.6030613690394504\n",
      "Epoha 19:\n",
      "train loss: 0.7328270140154367; val loss:1.6024387270291451\n",
      "Epoha 20:\n",
      "train loss: 0.7206753126556659; val loss:1.6020788316799917\n"
     ]
    }
   ],
   "source": [
    "kpmf_model_dif_64factors.fit(df_user_artists_train, df_user_artists_val, df_user_friends, df_user_tagged_artists)"
   ]
  },
  {
   "cell_type": "code",
   "execution_count": 71,
   "id": "de848c97",
   "metadata": {},
   "outputs": [],
   "source": [
    "kpmf_model_ct_100epochs = KPMF(n_epochs=100, n_factors = 8, learning_rate=0.005, regularization=0.05, kernel='ct')"
   ]
  },
  {
   "cell_type": "code",
   "execution_count": 72,
   "id": "b624c6dc",
   "metadata": {},
   "outputs": [
    {
     "name": "stdout",
     "output_type": "stream",
     "text": [
      "Obrada podataka...\n",
      "Inicijalizacija u i v...\n",
      "Ucenje...\n",
      "Epoha 1:\n",
      "train loss: 5.664512912669517; val loss:5.71232798440482\n",
      "Epoha 2:\n",
      "train loss: 4.866292222629992; val loss:5.002834906801376\n",
      "Epoha 3:\n",
      "train loss: 3.8837405221652186; val loss:4.114399263707559\n",
      "Epoha 4:\n",
      "train loss: 2.9632684980339126; val loss:3.249480994568383\n",
      "Epoha 5:\n",
      "train loss: 2.267039079821954; val loss:2.5725251661873196\n",
      "Epoha 6:\n",
      "train loss: 1.7795084767050253; val loss:2.087787168088933\n",
      "Epoha 7:\n",
      "train loss: 1.4559438074474145; val loss:1.7573869492247443\n",
      "Epoha 8:\n",
      "train loss: 1.2476402307772179; val loss:1.5369628335278431\n",
      "Epoha 9:\n",
      "train loss: 1.1148664427231463; val loss:1.3907853862453499\n",
      "Epoha 10:\n",
      "train loss: 1.0300466493677398; val loss:1.293585366678537\n",
      "Epoha 11:\n",
      "train loss: 0.9751997684115911; val loss:1.2282487086227558\n",
      "Epoha 12:\n",
      "train loss: 0.938872205201601; val loss:1.1834652775759302\n",
      "Epoha 13:\n",
      "train loss: 0.9139223370765244; val loss:1.1519382424618545\n",
      "Epoha 14:\n",
      "train loss: 0.8960022204547774; val loss:1.129053563869148\n",
      "Epoha 15:\n",
      "train loss: 0.8825048131018867; val loss:1.1119201419176103\n",
      "Epoha 16:\n",
      "train loss: 0.8718664384843509; val loss:1.0987195618363612\n",
      "Epoha 17:\n",
      "train loss: 0.8631354103596377; val loss:1.0882915336890937\n",
      "Epoha 18:\n",
      "train loss: 0.8557186007500803; val loss:1.0798797851995585\n",
      "Epoha 19:\n",
      "train loss: 0.8492359724963272; val loss:1.07297890516989\n",
      "Epoha 20:\n",
      "train loss: 0.8434370905610872; val loss:1.0672420336022308\n",
      "Epoha 21:\n",
      "train loss: 0.8381524881707879; val loss:1.062424633448081\n",
      "Epoha 22:\n",
      "train loss: 0.8332646811760189; val loss:1.0583496753060089\n",
      "Epoha 23:\n",
      "train loss: 0.8286904335390501; val loss:1.0548856678028717\n",
      "Epoha 24:\n",
      "train loss: 0.8243696121154968; val loss:1.0519325193220364\n",
      "Epoha 25:\n",
      "train loss: 0.8202580001030998; val loss:1.0494122629155098\n",
      "Epoha 26:\n",
      "train loss: 0.8163225522580588; val loss:1.0472628586603885\n",
      "Epoha 27:\n",
      "train loss: 0.812538195810806; val loss:1.0454339789561244\n",
      "Epoha 28:\n",
      "train loss: 0.808885634104823; val loss:1.0438840929861446\n",
      "Epoha 29:\n",
      "train loss: 0.8053498152002474; val loss:1.0425784152926183\n",
      "Epoha 30:\n",
      "train loss: 0.8019188497409574; val loss:1.0414874370985494\n",
      "Epoha 31:\n",
      "train loss: 0.7985832368249234; val loss:1.0405858558704144\n",
      "Epoha 32:\n",
      "train loss: 0.7953353032912682; val loss:1.0398517807567174\n",
      "Epoha 33:\n",
      "train loss: 0.7921687919798271; val loss:1.0392661319820897\n",
      "Epoha 34:\n",
      "train loss: 0.789078554563237; val loss:1.0388121788604285\n",
      "Epoha 35:\n",
      "train loss: 0.7860603182244272; val loss:1.0384751786586794\n",
      "Epoha 36:\n",
      "train loss: 0.783110504949916; val loss:1.0382420901772103\n",
      "Epoha 37:\n",
      "train loss: 0.7802260888628709; val loss:1.0381013436270363\n",
      "Epoha 38:\n",
      "train loss: 0.7774044816720459; val loss:1.038042653520201\n",
      "Epoha 39:\n",
      "train loss: 0.774643439526791; val loss:1.0380568647485158\n",
      "Epoha 40:\n",
      "train loss: 0.7719409867426025; val loss:1.0381358244094787\n",
      "Epoha 41:\n",
      "train loss: 0.7692953532902096; val loss:1.038272273640668\n",
      "Epoha 42:\n",
      "train loss: 0.7667049238462688; val loss:1.0384597549951828\n",
      "Epoha 43:\n",
      "train loss: 0.7641681967537204; val loss:1.038692531882315\n",
      "Epoha 44:\n",
      "train loss: 0.7616837515603121; val loss:1.0389655173968297\n",
      "Epoha 45:\n",
      "train loss: 0.759250223985549; val loss:1.0392742105144979\n",
      "Epoha 46:\n",
      "train loss: 0.7568662872723081; val loss:1.039614638166227\n",
      "Epoha 47:\n",
      "train loss: 0.7545306389506757; val loss:1.0399833021327503\n",
      "Epoha 48:\n",
      "train loss: 0.7522419921028956; val loss:1.040377130037013\n",
      "Epoha 49:\n",
      "train loss: 0.7499990702826357; val loss:1.0407934299623987\n",
      "Epoha 50:\n",
      "train loss: 0.747800605314173; val loss:1.0412298484030085\n",
      "Epoha 51:\n",
      "train loss: 0.7456453372778152; val loss:1.041684331369517\n",
      "Epoha 52:\n",
      "train loss: 0.7435320160745196; val loss:1.0421550885431972\n",
      "Epoha 53:\n",
      "train loss: 0.7414594040517639; val loss:1.0426405604035356\n",
      "Epoha 54:\n",
      "train loss: 0.739426279260665; val loss:1.0431393882622968\n",
      "Epoha 55:\n",
      "train loss: 0.7374314389980007; val loss:1.0436503871281346\n",
      "Epoha 56:\n",
      "train loss: 0.7354737033637425; val loss:1.0441725213082487\n",
      "Epoha 57:\n",
      "train loss: 0.7335519186333329; val loss:1.044704882632636\n",
      "Epoha 58:\n",
      "train loss: 0.7316649603033588; val loss:1.045246671166087\n",
      "Epoha 59:\n",
      "train loss: 0.7298117357192614; val loss:1.0457971782555888\n",
      "Epoha 60:\n",
      "train loss: 0.7279911862345084; val loss:1.0463557717476197\n",
      "Epoha 61:\n",
      "train loss: 0.7262022888829097; val loss:1.0469218832013683\n",
      "Epoha 62:\n",
      "train loss: 0.7244440575703099; val loss:1.047494996920162\n",
      "Epoha 63:\n",
      "train loss: 0.7227155438097544; val loss:1.0480746406238608\n",
      "Epoha 64:\n",
      "train loss: 0.7210158370364306; val loss:1.0486603775890317\n",
      "Epoha 65:\n",
      "train loss: 0.7193440645462554; val loss:1.0492518000906503\n",
      "Epoha 66:\n",
      "train loss: 0.7176993911058536; val loss:1.0498485239881648\n",
      "Epoha 67:\n",
      "train loss: 0.7160810182827082; val loss:1.050450184309328\n",
      "Epoha 68:\n",
      "train loss: 0.7144881835432074; val loss:1.0510564316966953\n",
      "Epoha 69:\n",
      "train loss: 0.7129201591637627; val loss:1.0516669295935972\n",
      "Epoha 70:\n",
      "train loss: 0.7113762509966735; val loss:1.0522813520583627\n",
      "Epoha 71:\n",
      "train loss: 0.7098557971283398; val loss:1.0528993821072496\n",
      "Epoha 72:\n",
      "train loss: 0.7083581664630935; val loss:1.0535207104977673\n",
      "Epoha 73:\n",
      "train loss: 0.7068827572615728; val loss:1.0541450348746322\n",
      "Epoha 74:\n",
      "train loss: 0.7054289956583583; val loss:1.0547720592104475\n",
      "Epoha 75:\n",
      "train loss: 0.7039963341796238; val loss:1.0554014934822353\n",
      "Epoha 76:\n",
      "train loss: 0.7025842502779251; val loss:1.0560330535331803\n",
      "Epoha 77:\n",
      "train loss: 0.7011922448979588; val loss:1.0566664610763756\n",
      "Epoha 78:\n",
      "train loss: 0.6998198410842157; val loss:1.0573014438039954\n",
      "Epoha 79:\n",
      "train loss: 0.6984665826388919; val loss:1.0579377355712347\n",
      "Epoha 80:\n",
      "train loss: 0.697132032836222; val loss:1.05857507662955\n",
      "Epoha 81:\n",
      "train loss: 0.6958157731975088; val loss:1.0592132138882984\n",
      "Epoha 82:\n",
      "train loss: 0.6945174023295413; val loss:1.0598519011878516\n",
      "Epoha 83:\n",
      "train loss: 0.6932365348277694; val loss:1.0604908995706852\n",
      "Epoha 84:\n",
      "train loss: 0.6919728002445132; val loss:1.0611299775399008\n",
      "Epoha 85:\n",
      "train loss: 0.6907258421216178; val loss:1.0617689112971553\n",
      "Epoha 86:\n",
      "train loss: 0.6894953170862539; val loss:1.0624074849541034\n",
      "Epoha 87:\n",
      "train loss: 0.6882808940080325; val loss:1.0630454907132503\n",
      "Epoha 88:\n",
      "train loss: 0.6870822532151855; val loss:1.0636827290156041\n",
      "Epoha 89:\n",
      "train loss: 0.6858990857672688; val loss:1.064319008653744\n",
      "Epoha 90:\n",
      "train loss: 0.684731092781638; val loss:1.0649541468499164\n",
      "Epoha 91:\n",
      "train loss: 0.6835779848108192; val loss:1.0655879692995773\n",
      "Epoha 92:\n",
      "train loss: 0.6824394812678349; val loss:1.066220310181422\n",
      "Epoha 93:\n",
      "train loss: 0.6813153098965283; val loss:1.066851012135428\n",
      "Epoha 94:\n",
      "train loss: 0.680205206283963; val loss:1.0674799262107992\n",
      "Epoha 95:\n",
      "train loss: 0.6791089134120281; val loss:1.0681069117859485\n",
      "Epoha 96:\n",
      "train loss: 0.6780261812454682; val loss:1.0687318364628224\n",
      "Epoha 97:\n",
      "train loss: 0.67695676635366; val loss:1.069354575937966\n",
      "Epoha 98:\n",
      "train loss: 0.675900431563569; val loss:1.0699750138527604\n",
      "Epoha 99:\n",
      "train loss: 0.6748569456414515; val loss:1.0705930416252487\n",
      "Epoha 100:\n",
      "train loss: 0.67382608300099; val loss:1.071208558265916\n"
     ]
    }
   ],
   "source": [
    "kpmf_model_ct_100epochs.fit(df_user_artists_train, df_user_artists_val, df_user_friends, df_user_tagged_artists)"
   ]
  },
  {
   "cell_type": "code",
   "execution_count": 91,
   "id": "37ac2860",
   "metadata": {},
   "outputs": [],
   "source": [
    "save_model(kpmf_model_dif_64factors, 'models/kpmf_final_64epochs.sav')\n",
    "save_model(kpmf_model_ct_100epochs, 'models/kpmf_final_100epochs.sav')"
   ]
  },
  {
   "cell_type": "markdown",
   "id": "f6da91d1",
   "metadata": {},
   "source": [
    "### Grafički i tabelarni prikaz dodatnih KPMF modela"
   ]
  },
  {
   "cell_type": "code",
   "execution_count": 92,
   "id": "3a8374ad",
   "metadata": {},
   "outputs": [
    {
     "data": {
      "image/png": "[encoded data removed]",
      "text/plain": [
       "<Figure size 864x360 with 2 Axes>"
      ]
     },
     "metadata": {
      "needs_background": "light"
     },
     "output_type": "display_data"
    }
   ],
   "source": [
    "plt.figure(figsize=(12, 5))\n",
    "\n",
    "plt.subplot(1, 2, 1)\n",
    "plt.title('Loss Diffusion Kernel 64 Factors')\n",
    "plt.plot(np.arange(0, kpmf_model_dif_64factors.n_epochs), kpmf_model_dif_64factors.train_loss_per_epoch, label='training', \n",
    "        color='royalblue')\n",
    "plt.plot(np.arange(0, kpmf_model_dif_64factors.n_epochs), kpmf_model_dif_64factors.val_loss_per_epoch, label='validation',\n",
    "        color='pink')\n",
    "plt.legend(loc='best')\n",
    "\n",
    "plt.subplot(1, 2, 2)\n",
    "plt.title('Loss Commute Time Kernel 100 Epochs')\n",
    "plt.plot(np.arange(0, kpmf_model_ct_100epochs.n_epochs), kpmf_model_ct_100epochs.train_loss_per_epoch, label='training',\n",
    "        color='royalblue')\n",
    "plt.plot(np.arange(0, kpmf_model_ct_100epochs.n_epochs), kpmf_model_ct_100epochs.val_loss_per_epoch, label='validation',\n",
    "        color='pink')\n",
    "plt.legend(loc='best')\n",
    "plt.suptitle('Kretanje funkcije gubitka na trening skupu i validacionom skupu', fontsize=20)\n",
    "plt.tight_layout()\n",
    "\n",
    "plt.show()"
   ]
  },
  {
   "cell_type": "code",
   "execution_count": 76,
   "id": "0aed9d98",
   "metadata": {},
   "outputs": [],
   "source": [
    "# Predikcije dodatnih KPMF modela i greška na test skupu.\n",
    "df_pred_kpmf_dif_64factors, pred_loss_kpmf_64factors = kpmf_model_dif_64factors.predict(df_user_artists_test)\n",
    "df_pred_kpmf_dif_100epochs, pred_loss_kpmf_100epochs = kpmf_model_ct_100epochs.predict(df_user_artists_test)"
   ]
  },
  {
   "cell_type": "markdown",
   "id": "30deae03",
   "metadata": {},
   "source": [
    "Prikazujemo prvih 10 rejtinga i predikcija rejtinga za par korisnik/izvođač za svaki od dodatnih obučenih KPMF modela. "
   ]
  },
  {
   "cell_type": "code",
   "execution_count": 77,
   "id": "4b0570a1",
   "metadata": {},
   "outputs": [
    {
     "data": {
      "text/html": [
       "<style type=\"text/css\">\n",
       "</style>\n",
       "<table id=\"T_321dd_\">\n",
       "  <caption>Predikcije dodatnog KPMF modela sa 64 latentna faktora</caption>\n",
       "  <thead>\n",
       "    <tr>\n",
       "      <th class=\"blank level0\" >&nbsp;</th>\n",
       "      <th class=\"col_heading level0 col0\" >userID</th>\n",
       "      <th class=\"col_heading level0 col1\" >artistID</th>\n",
       "      <th class=\"col_heading level0 col2\" >rating</th>\n",
       "      <th class=\"col_heading level0 col3\" >prediction</th>\n",
       "    </tr>\n",
       "  </thead>\n",
       "  <tbody>\n",
       "    <tr>\n",
       "      <th id=\"T_321dd_level0_row0\" class=\"row_heading level0 row0\" >73070</th>\n",
       "      <td id=\"T_321dd_row0_col0\" class=\"data row0 col0\" >1649</td>\n",
       "      <td id=\"T_321dd_row0_col1\" class=\"data row0 col1\" >1034</td>\n",
       "      <td id=\"T_321dd_row0_col2\" class=\"data row0 col2\" >6.792344</td>\n",
       "      <td id=\"T_321dd_row0_col3\" class=\"data row0 col3\" >7.954155</td>\n",
       "    </tr>\n",
       "    <tr>\n",
       "      <th id=\"T_321dd_level0_row1\" class=\"row_heading level0 row1\" >51603</th>\n",
       "      <td id=\"T_321dd_row1_col0\" class=\"data row1 col0\" >1149</td>\n",
       "      <td id=\"T_321dd_row1_col1\" class=\"data row1 col1\" >193</td>\n",
       "      <td id=\"T_321dd_row1_col2\" class=\"data row1 col2\" >2.708050</td>\n",
       "      <td id=\"T_321dd_row1_col3\" class=\"data row1 col3\" >3.516289</td>\n",
       "    </tr>\n",
       "    <tr>\n",
       "      <th id=\"T_321dd_level0_row2\" class=\"row_heading level0 row2\" >64800</th>\n",
       "      <td id=\"T_321dd_row2_col0\" class=\"data row2 col0\" >1459</td>\n",
       "      <td id=\"T_321dd_row2_col1\" class=\"data row2 col1\" >604</td>\n",
       "      <td id=\"T_321dd_row2_col2\" class=\"data row2 col2\" >5.010635</td>\n",
       "      <td id=\"T_321dd_row2_col3\" class=\"data row2 col3\" >5.405886</td>\n",
       "    </tr>\n",
       "    <tr>\n",
       "      <th id=\"T_321dd_level0_row3\" class=\"row_heading level0 row3\" >12626</th>\n",
       "      <td id=\"T_321dd_row3_col0\" class=\"data row3 col0\" >274</td>\n",
       "      <td id=\"T_321dd_row3_col1\" class=\"data row3 col1\" >1072</td>\n",
       "      <td id=\"T_321dd_row3_col2\" class=\"data row3 col2\" >5.214936</td>\n",
       "      <td id=\"T_321dd_row3_col3\" class=\"data row3 col3\" >6.535525</td>\n",
       "    </tr>\n",
       "    <tr>\n",
       "      <th id=\"T_321dd_level0_row4\" class=\"row_heading level0 row4\" >5776</th>\n",
       "      <td id=\"T_321dd_row4_col0\" class=\"data row4 col0\" >122</td>\n",
       "      <td id=\"T_321dd_row4_col1\" class=\"data row4 col1\" >1244</td>\n",
       "      <td id=\"T_321dd_row4_col2\" class=\"data row4 col2\" >2.708050</td>\n",
       "      <td id=\"T_321dd_row4_col3\" class=\"data row4 col3\" >3.392735</td>\n",
       "    </tr>\n",
       "    <tr>\n",
       "      <th id=\"T_321dd_level0_row5\" class=\"row_heading level0 row5\" >80975</th>\n",
       "      <td id=\"T_321dd_row5_col0\" class=\"data row5 col0\" >1829</td>\n",
       "      <td id=\"T_321dd_row5_col1\" class=\"data row5 col1\" >67</td>\n",
       "      <td id=\"T_321dd_row5_col2\" class=\"data row5 col2\" >5.869297</td>\n",
       "      <td id=\"T_321dd_row5_col3\" class=\"data row5 col3\" >7.642127</td>\n",
       "    </tr>\n",
       "    <tr>\n",
       "      <th id=\"T_321dd_level0_row6\" class=\"row_heading level0 row6\" >64779</th>\n",
       "      <td id=\"T_321dd_row6_col0\" class=\"data row6 col0\" >1458</td>\n",
       "      <td id=\"T_321dd_row6_col1\" class=\"data row6 col1\" >2544</td>\n",
       "      <td id=\"T_321dd_row6_col2\" class=\"data row6 col2\" >3.178054</td>\n",
       "      <td id=\"T_321dd_row6_col3\" class=\"data row6 col3\" >5.777960</td>\n",
       "    </tr>\n",
       "    <tr>\n",
       "      <th id=\"T_321dd_level0_row7\" class=\"row_heading level0 row7\" >70429</th>\n",
       "      <td id=\"T_321dd_row7_col0\" class=\"data row7 col0\" >1587</td>\n",
       "      <td id=\"T_321dd_row7_col1\" class=\"data row7 col1\" >53</td>\n",
       "      <td id=\"T_321dd_row7_col2\" class=\"data row7 col2\" >6.357842</td>\n",
       "      <td id=\"T_321dd_row7_col3\" class=\"data row7 col3\" >6.390222</td>\n",
       "    </tr>\n",
       "    <tr>\n",
       "      <th id=\"T_321dd_level0_row8\" class=\"row_heading level0 row8\" >49392</th>\n",
       "      <td id=\"T_321dd_row8_col0\" class=\"data row8 col0\" >1098</td>\n",
       "      <td id=\"T_321dd_row8_col1\" class=\"data row8 col1\" >57</td>\n",
       "      <td id=\"T_321dd_row8_col2\" class=\"data row8 col2\" >3.871201</td>\n",
       "      <td id=\"T_321dd_row8_col3\" class=\"data row8 col3\" >2.824377</td>\n",
       "    </tr>\n",
       "  </tbody>\n",
       "</table>\n"
      ],
      "text/plain": [
       "<pandas.io.formats.style.Styler at 0x1b5c1d9f8b0>"
      ]
     },
     "execution_count": 77,
     "metadata": {},
     "output_type": "execute_result"
    }
   ],
   "source": [
    "df_pred_kpmf_dif_64factors.drop(columns = ['weight'])[1:10].style.set_caption(\"Predikcije dodatnog KPMF modela sa 64 latentna faktora\")"
   ]
  },
  {
   "cell_type": "code",
   "execution_count": 78,
   "id": "38ae9035",
   "metadata": {},
   "outputs": [
    {
     "data": {
      "text/html": [
       "<style type=\"text/css\">\n",
       "</style>\n",
       "<table id=\"T_27059_\">\n",
       "  <caption>Predikcije dodatnog KPMF modela sa 100 epoha</caption>\n",
       "  <thead>\n",
       "    <tr>\n",
       "      <th class=\"blank level0\" >&nbsp;</th>\n",
       "      <th class=\"col_heading level0 col0\" >userID</th>\n",
       "      <th class=\"col_heading level0 col1\" >artistID</th>\n",
       "      <th class=\"col_heading level0 col2\" >rating</th>\n",
       "      <th class=\"col_heading level0 col3\" >prediction</th>\n",
       "    </tr>\n",
       "  </thead>\n",
       "  <tbody>\n",
       "    <tr>\n",
       "      <th id=\"T_27059_level0_row0\" class=\"row_heading level0 row0\" >73070</th>\n",
       "      <td id=\"T_27059_row0_col0\" class=\"data row0 col0\" >1649</td>\n",
       "      <td id=\"T_27059_row0_col1\" class=\"data row0 col1\" >1034</td>\n",
       "      <td id=\"T_27059_row0_col2\" class=\"data row0 col2\" >6.792344</td>\n",
       "      <td id=\"T_27059_row0_col3\" class=\"data row0 col3\" >7.601821</td>\n",
       "    </tr>\n",
       "    <tr>\n",
       "      <th id=\"T_27059_level0_row1\" class=\"row_heading level0 row1\" >51603</th>\n",
       "      <td id=\"T_27059_row1_col0\" class=\"data row1 col0\" >1149</td>\n",
       "      <td id=\"T_27059_row1_col1\" class=\"data row1 col1\" >193</td>\n",
       "      <td id=\"T_27059_row1_col2\" class=\"data row1 col2\" >2.708050</td>\n",
       "      <td id=\"T_27059_row1_col3\" class=\"data row1 col3\" >2.521600</td>\n",
       "    </tr>\n",
       "    <tr>\n",
       "      <th id=\"T_27059_level0_row2\" class=\"row_heading level0 row2\" >64800</th>\n",
       "      <td id=\"T_27059_row2_col0\" class=\"data row2 col0\" >1459</td>\n",
       "      <td id=\"T_27059_row2_col1\" class=\"data row2 col1\" >604</td>\n",
       "      <td id=\"T_27059_row2_col2\" class=\"data row2 col2\" >5.010635</td>\n",
       "      <td id=\"T_27059_row2_col3\" class=\"data row2 col3\" >4.615639</td>\n",
       "    </tr>\n",
       "    <tr>\n",
       "      <th id=\"T_27059_level0_row3\" class=\"row_heading level0 row3\" >12626</th>\n",
       "      <td id=\"T_27059_row3_col0\" class=\"data row3 col0\" >274</td>\n",
       "      <td id=\"T_27059_row3_col1\" class=\"data row3 col1\" >1072</td>\n",
       "      <td id=\"T_27059_row3_col2\" class=\"data row3 col2\" >5.214936</td>\n",
       "      <td id=\"T_27059_row3_col3\" class=\"data row3 col3\" >4.657946</td>\n",
       "    </tr>\n",
       "    <tr>\n",
       "      <th id=\"T_27059_level0_row4\" class=\"row_heading level0 row4\" >5776</th>\n",
       "      <td id=\"T_27059_row4_col0\" class=\"data row4 col0\" >122</td>\n",
       "      <td id=\"T_27059_row4_col1\" class=\"data row4 col1\" >1244</td>\n",
       "      <td id=\"T_27059_row4_col2\" class=\"data row4 col2\" >2.708050</td>\n",
       "      <td id=\"T_27059_row4_col3\" class=\"data row4 col3\" >2.828559</td>\n",
       "    </tr>\n",
       "    <tr>\n",
       "      <th id=\"T_27059_level0_row5\" class=\"row_heading level0 row5\" >80975</th>\n",
       "      <td id=\"T_27059_row5_col0\" class=\"data row5 col0\" >1829</td>\n",
       "      <td id=\"T_27059_row5_col1\" class=\"data row5 col1\" >67</td>\n",
       "      <td id=\"T_27059_row5_col2\" class=\"data row5 col2\" >5.869297</td>\n",
       "      <td id=\"T_27059_row5_col3\" class=\"data row5 col3\" >7.152483</td>\n",
       "    </tr>\n",
       "    <tr>\n",
       "      <th id=\"T_27059_level0_row6\" class=\"row_heading level0 row6\" >64779</th>\n",
       "      <td id=\"T_27059_row6_col0\" class=\"data row6 col0\" >1458</td>\n",
       "      <td id=\"T_27059_row6_col1\" class=\"data row6 col1\" >2544</td>\n",
       "      <td id=\"T_27059_row6_col2\" class=\"data row6 col2\" >3.178054</td>\n",
       "      <td id=\"T_27059_row6_col3\" class=\"data row6 col3\" >3.284715</td>\n",
       "    </tr>\n",
       "    <tr>\n",
       "      <th id=\"T_27059_level0_row7\" class=\"row_heading level0 row7\" >70429</th>\n",
       "      <td id=\"T_27059_row7_col0\" class=\"data row7 col0\" >1587</td>\n",
       "      <td id=\"T_27059_row7_col1\" class=\"data row7 col1\" >53</td>\n",
       "      <td id=\"T_27059_row7_col2\" class=\"data row7 col2\" >6.357842</td>\n",
       "      <td id=\"T_27059_row7_col3\" class=\"data row7 col3\" >5.688448</td>\n",
       "    </tr>\n",
       "    <tr>\n",
       "      <th id=\"T_27059_level0_row8\" class=\"row_heading level0 row8\" >49392</th>\n",
       "      <td id=\"T_27059_row8_col0\" class=\"data row8 col0\" >1098</td>\n",
       "      <td id=\"T_27059_row8_col1\" class=\"data row8 col1\" >57</td>\n",
       "      <td id=\"T_27059_row8_col2\" class=\"data row8 col2\" >3.871201</td>\n",
       "      <td id=\"T_27059_row8_col3\" class=\"data row8 col3\" >2.470608</td>\n",
       "    </tr>\n",
       "  </tbody>\n",
       "</table>\n"
      ],
      "text/plain": [
       "<pandas.io.formats.style.Styler at 0x1b59726f670>"
      ]
     },
     "execution_count": 78,
     "metadata": {},
     "output_type": "execute_result"
    }
   ],
   "source": [
    "df_pred_kpmf_dif_100epochs.drop(columns = ['weight'])[1:10].style.set_caption(\"Predikcije dodatnog KPMF modela sa 100 epoha\")"
   ]
  },
  {
   "cell_type": "markdown",
   "id": "221a270d",
   "metadata": {},
   "source": [
    "Tabela koja prikazuje greške na trening, validacionom i test skupu dodatnih KPMF modela. "
   ]
  },
  {
   "cell_type": "code",
   "execution_count": 79,
   "id": "873cc486",
   "metadata": {},
   "outputs": [
    {
     "data": {
      "text/html": [
       "<style type=\"text/css\">\n",
       "</style>\n",
       "<table id=\"T_d2b42_\">\n",
       "  <caption>Greške dodatnih KPMF modela</caption>\n",
       "  <thead>\n",
       "    <tr>\n",
       "      <th class=\"blank level0\" >&nbsp;</th>\n",
       "      <th class=\"col_heading level0 col0\" >train_loss</th>\n",
       "      <th class=\"col_heading level0 col1\" >val_loss</th>\n",
       "      <th class=\"col_heading level0 col2\" >test_loss</th>\n",
       "    </tr>\n",
       "  </thead>\n",
       "  <tbody>\n",
       "    <tr>\n",
       "      <th id=\"T_d2b42_level0_row0\" class=\"row_heading level0 row0\" >Diffusion 64 Factors</th>\n",
       "      <td id=\"T_d2b42_row0_col0\" class=\"data row0 col0\" >0.720675</td>\n",
       "      <td id=\"T_d2b42_row0_col1\" class=\"data row0 col1\" >1.602079</td>\n",
       "      <td id=\"T_d2b42_row0_col2\" class=\"data row0 col2\" >1.633006</td>\n",
       "    </tr>\n",
       "    <tr>\n",
       "      <th id=\"T_d2b42_level0_row1\" class=\"row_heading level0 row1\" >Commute Time 100 epochs</th>\n",
       "      <td id=\"T_d2b42_row1_col0\" class=\"data row1 col0\" >0.673826</td>\n",
       "      <td id=\"T_d2b42_row1_col1\" class=\"data row1 col1\" >1.071209</td>\n",
       "      <td id=\"T_d2b42_row1_col2\" class=\"data row1 col2\" >1.064210</td>\n",
       "    </tr>\n",
       "  </tbody>\n",
       "</table>\n"
      ],
      "text/plain": [
       "<pandas.io.formats.style.Styler at 0x1b59726ff40>"
      ]
     },
     "execution_count": 79,
     "metadata": {},
     "output_type": "execute_result"
    }
   ],
   "source": [
    "initialized_data_additional = {'train_loss': [kpmf_model_dif_64factors.train_loss, kpmf_model_ct_100epochs.train_loss], \n",
    "                                'val_loss': [kpmf_model_dif_64factors.val_loss, kpmf_model_ct_100epochs.val_loss],\n",
    "                                'test_loss': [pred_loss_kpmf_64factors, pred_loss_kpmf_100epochs]}\n",
    "df_errors_kpmf_additional = pd.DataFrame(initialized_data_additional, index=['Diffusion 64 Factors', 'Commute Time 100 epochs'])\n",
    "df_errors_kpmf_additional.style.set_caption(\"Greške dodatnih KPMF modela\")"
   ]
  },
  {
   "cell_type": "markdown",
   "id": "d63d67c5",
   "metadata": {},
   "source": [
    "### Analiza rezultata dodatnih KPMF modela"
   ]
  },
  {
   "cell_type": "markdown",
   "id": "11beb2ab",
   "metadata": {},
   "source": [
    "<div style=\"text-align: justify\"> \n",
    "Prethodno obučeni dodatni KPMF modeli ilustruju dva pomenuta zapažanja o metodi. Prvo se odnosi na broj latentnih faktora koji se koriste u modelu. Sa grafika kretanja greške na trening i validacionom skupu po epohama vidimo da se povećanjem broja faktora na 64 (u odnosu na prethodnih 8) greška na trening skupu smanjuje, dok je greška na skupu za validaciju velika i sporo opada. Dakle, u slučaju velikog broja latentnih faktora dolazi do preprilagođavanja modela podacima. To potvrđuje i tabela grešaka u kojoj vidimo da je greška na skupovima za validaciju i test dvostruko veća od greške na trening skupu, što potvrđuje zaključak da modeli sa velikim brojem latentnih faktora nisu pouzdani. <br>\n",
    "Drugo zapažanje se odnosi na broj epoha korišćenih u modelu. Već u toku obučavanja modela sa 100 epoha, iz listi sa greškama po epohama koje se štampaju, možemo primijetiti da greške na trening i skupu za validaciju prvo opadaju, ali se potom stabilizuju, nakon čega greška na validacionom skupu počinje ponovo da raste. To možemo ilustrativno vidjeti i na grafiku kretanja greške na trening i validacionom skupu po epohama. \n",
    "I u ovom slučaju dolazi do preprilagođavanja modela podacima, greške na skupu za trening i validaciju odstupaju od greške na trening skupu, a dodatno, nakon određenog broja epoha (već nakon 30ak) model više ne napreduje sa učenjem, te kreće da se prilagođava podacima. <br>\n",
    "Zaključujemo da su rezultati grid search-a u skladu sa rezultatima obučavanja modela i da pri izboru modela ne treba koristiti veliki broj latentnih faktora i veliki broj epoha.\n",
    "</div>"
   ]
  },
  {
   "cell_type": "markdown",
   "id": "644835ce",
   "metadata": {},
   "source": [
    "### Obučavanje cKPMF modela"
   ]
  },
  {
   "cell_type": "code",
   "execution_count": 80,
   "id": "a2ffbe1b",
   "metadata": {},
   "outputs": [],
   "source": [
    "ckpmf_model = CKPMF(n_epochs=20, n_factors=8, learning_rate=0.005, regularization=0.01)"
   ]
  },
  {
   "cell_type": "code",
   "execution_count": 82,
   "id": "617a2a6e",
   "metadata": {},
   "outputs": [
    {
     "name": "stdout",
     "output_type": "stream",
     "text": [
      "Obrada podataka...\n",
      "Inicijalizacija u, v, y i w...\n",
      "Ucenje...\n",
      "Epoha 1:\n",
      "train loss: 1.8313987688414006; val loss:1.860228127115658\n",
      "Epoha 2:\n",
      "train loss: 1.431991719486912; val loss:1.4666560946149423\n",
      "Epoha 3:\n",
      "train loss: 1.2632241703519214; val loss:1.3062687624038467\n",
      "Epoha 4:\n",
      "train loss: 1.1577142560456246; val loss:1.2075609836739822\n",
      "Epoha 5:\n",
      "train loss: 1.0847283527980371; val loss:1.1406378746666397\n",
      "Epoha 6:\n",
      "train loss: 1.0312129833960293; val loss:1.093016460612831\n",
      "Epoha 7:\n",
      "train loss: 0.9904156755180531; val loss:1.058129341351872\n",
      "Epoha 8:\n",
      "train loss: 0.9583576987202683; val loss:1.0320312806017764\n",
      "Epoha 9:\n",
      "train loss: 0.9324896820932409; val loss:1.0121795497539063\n",
      "Epoha 10:\n",
      "train loss: 0.9111054814668259; val loss:0.9968715666650286\n",
      "Epoha 11:\n",
      "train loss: 0.8930468918392817; val loss:0.984940076591844\n",
      "Epoha 12:\n",
      "train loss: 0.8775257875206431; val loss:0.9755684269685158\n",
      "Epoha 13:\n",
      "train loss: 0.8639985184147034; val loss:0.9681703223176947\n",
      "Epoha 14:\n",
      "train loss: 0.8520744895767959; val loss:0.9623118041880213\n",
      "Epoha 15:\n",
      "train loss: 0.8414571683551445; val loss:0.9576648899989866\n",
      "Epoha 16:\n",
      "train loss: 0.8319131601686284; val loss:0.9539823312459685\n",
      "Epoha 17:\n",
      "train loss: 0.8232583420055906; val loss:0.9510820652702726\n",
      "Epoha 18:\n",
      "train loss: 0.8153499945751393; val loss:0.9488337563694583\n",
      "Epoha 19:\n",
      "train loss: 0.8080793137032655; val loss:0.947145505410308\n",
      "Epoha 20:\n",
      "train loss: 0.8013636125728067; val loss:0.9459519757657768\n"
     ]
    }
   ],
   "source": [
    "ckpmf_model.fit(df_user_artists_train, df_user_artists_val, df_user_friends, df_user_tagged_artists)"
   ]
  },
  {
   "cell_type": "code",
   "execution_count": 83,
   "id": "ce70462c",
   "metadata": {},
   "outputs": [],
   "source": [
    "save_model(ckpmf_model, 'models/ckpmf_final.sav')"
   ]
  },
  {
   "cell_type": "markdown",
   "id": "5d3774f6",
   "metadata": {},
   "source": [
    "### Grafički i tabelarni prikaz cKPMF modela"
   ]
  },
  {
   "cell_type": "code",
   "execution_count": 84,
   "id": "e8f62306",
   "metadata": {},
   "outputs": [
    {
     "data": {
      "image/png": "[encoded data removed]",
      "text/plain": [
       "<Figure size 576x288 with 1 Axes>"
      ]
     },
     "metadata": {
      "needs_background": "light"
     },
     "output_type": "display_data"
    }
   ],
   "source": [
    "plt.figure(figsize=(8, 4))\n",
    "\n",
    "plt.title('Loss cKPMF')\n",
    "plt.plot(np.arange(0, ckpmf_model.n_epochs), ckpmf_model.train_loss_per_epoch, label='training', color='royalblue')\n",
    "plt.plot(np.arange(0, ckpmf_model.n_epochs), ckpmf_model.val_loss_per_epoch, label='validation', color='pink')\n",
    "plt.legend(loc='best')\n",
    "plt.tight_layout()\n",
    "\n",
    "plt.show()"
   ]
  },
  {
   "cell_type": "code",
   "execution_count": 85,
   "id": "dfaeb329",
   "metadata": {},
   "outputs": [],
   "source": [
    "df_pred_ckpmf, pred_loss_ckpmf = ckpmf_model.predict(df_user_artists_test)"
   ]
  },
  {
   "cell_type": "markdown",
   "id": "5b5a389e",
   "metadata": {},
   "source": [
    "Prikazujemo prvih 10 rejtinga i predikcija rejtinga za par korisnik/izvođač za cKPMF model. "
   ]
  },
  {
   "cell_type": "code",
   "execution_count": 86,
   "id": "b28f5f63",
   "metadata": {},
   "outputs": [
    {
     "data": {
      "text/html": [
       "<style type=\"text/css\">\n",
       "</style>\n",
       "<table id=\"T_769c0_\">\n",
       "  <caption>Predikcije cKPMF modela</caption>\n",
       "  <thead>\n",
       "    <tr>\n",
       "      <th class=\"blank level0\" >&nbsp;</th>\n",
       "      <th class=\"col_heading level0 col0\" >userID</th>\n",
       "      <th class=\"col_heading level0 col1\" >artistID</th>\n",
       "      <th class=\"col_heading level0 col2\" >rating</th>\n",
       "      <th class=\"col_heading level0 col3\" >prediction</th>\n",
       "    </tr>\n",
       "  </thead>\n",
       "  <tbody>\n",
       "    <tr>\n",
       "      <th id=\"T_769c0_level0_row0\" class=\"row_heading level0 row0\" >73070</th>\n",
       "      <td id=\"T_769c0_row0_col0\" class=\"data row0 col0\" >1649</td>\n",
       "      <td id=\"T_769c0_row0_col1\" class=\"data row0 col1\" >1034</td>\n",
       "      <td id=\"T_769c0_row0_col2\" class=\"data row0 col2\" >6.792344</td>\n",
       "      <td id=\"T_769c0_row0_col3\" class=\"data row0 col3\" >7.183461</td>\n",
       "    </tr>\n",
       "    <tr>\n",
       "      <th id=\"T_769c0_level0_row1\" class=\"row_heading level0 row1\" >51603</th>\n",
       "      <td id=\"T_769c0_row1_col0\" class=\"data row1 col0\" >1149</td>\n",
       "      <td id=\"T_769c0_row1_col1\" class=\"data row1 col1\" >193</td>\n",
       "      <td id=\"T_769c0_row1_col2\" class=\"data row1 col2\" >2.708050</td>\n",
       "      <td id=\"T_769c0_row1_col3\" class=\"data row1 col3\" >3.085956</td>\n",
       "    </tr>\n",
       "    <tr>\n",
       "      <th id=\"T_769c0_level0_row2\" class=\"row_heading level0 row2\" >64800</th>\n",
       "      <td id=\"T_769c0_row2_col0\" class=\"data row2 col0\" >1459</td>\n",
       "      <td id=\"T_769c0_row2_col1\" class=\"data row2 col1\" >604</td>\n",
       "      <td id=\"T_769c0_row2_col2\" class=\"data row2 col2\" >5.010635</td>\n",
       "      <td id=\"T_769c0_row2_col3\" class=\"data row2 col3\" >4.863375</td>\n",
       "    </tr>\n",
       "    <tr>\n",
       "      <th id=\"T_769c0_level0_row3\" class=\"row_heading level0 row3\" >12626</th>\n",
       "      <td id=\"T_769c0_row3_col0\" class=\"data row3 col0\" >274</td>\n",
       "      <td id=\"T_769c0_row3_col1\" class=\"data row3 col1\" >1072</td>\n",
       "      <td id=\"T_769c0_row3_col2\" class=\"data row3 col2\" >5.214936</td>\n",
       "      <td id=\"T_769c0_row3_col3\" class=\"data row3 col3\" >5.965631</td>\n",
       "    </tr>\n",
       "    <tr>\n",
       "      <th id=\"T_769c0_level0_row4\" class=\"row_heading level0 row4\" >5776</th>\n",
       "      <td id=\"T_769c0_row4_col0\" class=\"data row4 col0\" >122</td>\n",
       "      <td id=\"T_769c0_row4_col1\" class=\"data row4 col1\" >1244</td>\n",
       "      <td id=\"T_769c0_row4_col2\" class=\"data row4 col2\" >2.708050</td>\n",
       "      <td id=\"T_769c0_row4_col3\" class=\"data row4 col3\" >4.273837</td>\n",
       "    </tr>\n",
       "    <tr>\n",
       "      <th id=\"T_769c0_level0_row5\" class=\"row_heading level0 row5\" >80975</th>\n",
       "      <td id=\"T_769c0_row5_col0\" class=\"data row5 col0\" >1829</td>\n",
       "      <td id=\"T_769c0_row5_col1\" class=\"data row5 col1\" >67</td>\n",
       "      <td id=\"T_769c0_row5_col2\" class=\"data row5 col2\" >5.869297</td>\n",
       "      <td id=\"T_769c0_row5_col3\" class=\"data row5 col3\" >7.394585</td>\n",
       "    </tr>\n",
       "    <tr>\n",
       "      <th id=\"T_769c0_level0_row6\" class=\"row_heading level0 row6\" >64779</th>\n",
       "      <td id=\"T_769c0_row6_col0\" class=\"data row6 col0\" >1458</td>\n",
       "      <td id=\"T_769c0_row6_col1\" class=\"data row6 col1\" >2544</td>\n",
       "      <td id=\"T_769c0_row6_col2\" class=\"data row6 col2\" >3.178054</td>\n",
       "      <td id=\"T_769c0_row6_col3\" class=\"data row6 col3\" >3.151619</td>\n",
       "    </tr>\n",
       "    <tr>\n",
       "      <th id=\"T_769c0_level0_row7\" class=\"row_heading level0 row7\" >70429</th>\n",
       "      <td id=\"T_769c0_row7_col0\" class=\"data row7 col0\" >1587</td>\n",
       "      <td id=\"T_769c0_row7_col1\" class=\"data row7 col1\" >53</td>\n",
       "      <td id=\"T_769c0_row7_col2\" class=\"data row7 col2\" >6.357842</td>\n",
       "      <td id=\"T_769c0_row7_col3\" class=\"data row7 col3\" >6.601458</td>\n",
       "    </tr>\n",
       "    <tr>\n",
       "      <th id=\"T_769c0_level0_row8\" class=\"row_heading level0 row8\" >49392</th>\n",
       "      <td id=\"T_769c0_row8_col0\" class=\"data row8 col0\" >1098</td>\n",
       "      <td id=\"T_769c0_row8_col1\" class=\"data row8 col1\" >57</td>\n",
       "      <td id=\"T_769c0_row8_col2\" class=\"data row8 col2\" >3.871201</td>\n",
       "      <td id=\"T_769c0_row8_col3\" class=\"data row8 col3\" >3.256913</td>\n",
       "    </tr>\n",
       "  </tbody>\n",
       "</table>\n"
      ],
      "text/plain": [
       "<pandas.io.formats.style.Styler at 0x1b59a91bf10>"
      ]
     },
     "execution_count": 86,
     "metadata": {},
     "output_type": "execute_result"
    }
   ],
   "source": [
    "df_pred_ckpmf.drop(columns=['weight'])[1:10].style.set_caption(\"Predikcije cKPMF modela\")"
   ]
  },
  {
   "cell_type": "markdown",
   "id": "22db4578",
   "metadata": {},
   "source": [
    "Tabela koja prikazuje greške na trening, validacionom i test skupu cKPMF i KPMF modela."
   ]
  },
  {
   "cell_type": "code",
   "execution_count": 89,
   "id": "9ac38749",
   "metadata": {},
   "outputs": [
    {
     "data": {
      "text/html": [
       "<style type=\"text/css\">\n",
       "</style>\n",
       "<table id=\"T_33b70_\">\n",
       "  <caption>Greške KPMF i cKPMF modela</caption>\n",
       "  <thead>\n",
       "    <tr>\n",
       "      <th class=\"blank level0\" >&nbsp;</th>\n",
       "      <th class=\"col_heading level0 col0\" >train_loss</th>\n",
       "      <th class=\"col_heading level0 col1\" >val_loss</th>\n",
       "      <th class=\"col_heading level0 col2\" >test_loss</th>\n",
       "    </tr>\n",
       "  </thead>\n",
       "  <tbody>\n",
       "    <tr>\n",
       "      <th id=\"T_33b70_level0_row0\" class=\"row_heading level0 row0\" >Commute Time</th>\n",
       "      <td id=\"T_33b70_row0_col0\" class=\"data row0 col0\" >0.783598</td>\n",
       "      <td id=\"T_33b70_row0_col1\" class=\"data row0 col1\" >1.082288</td>\n",
       "      <td id=\"T_33b70_row0_col2\" class=\"data row0 col2\" >1.080920</td>\n",
       "    </tr>\n",
       "    <tr>\n",
       "      <th id=\"T_33b70_level0_row1\" class=\"row_heading level0 row1\" >Regularized Laplacian</th>\n",
       "      <td id=\"T_33b70_row1_col0\" class=\"data row1 col0\" >0.710914</td>\n",
       "      <td id=\"T_33b70_row1_col1\" class=\"data row1 col1\" >1.170802</td>\n",
       "      <td id=\"T_33b70_row1_col2\" class=\"data row1 col2\" >1.148082</td>\n",
       "    </tr>\n",
       "    <tr>\n",
       "      <th id=\"T_33b70_level0_row2\" class=\"row_heading level0 row2\" >Diffusion</th>\n",
       "      <td id=\"T_33b70_row2_col0\" class=\"data row2 col0\" >0.802066</td>\n",
       "      <td id=\"T_33b70_row2_col1\" class=\"data row2 col1\" >0.959788</td>\n",
       "      <td id=\"T_33b70_row2_col2\" class=\"data row2 col2\" >0.955862</td>\n",
       "    </tr>\n",
       "    <tr>\n",
       "      <th id=\"T_33b70_level0_row3\" class=\"row_heading level0 row3\" >RBF</th>\n",
       "      <td id=\"T_33b70_row3_col0\" class=\"data row3 col0\" >0.794910</td>\n",
       "      <td id=\"T_33b70_row3_col1\" class=\"data row3 col1\" >0.948088</td>\n",
       "      <td id=\"T_33b70_row3_col2\" class=\"data row3 col2\" >0.951977</td>\n",
       "    </tr>\n",
       "    <tr>\n",
       "      <th id=\"T_33b70_level0_row4\" class=\"row_heading level0 row4\" >cKPMF</th>\n",
       "      <td id=\"T_33b70_row4_col0\" class=\"data row4 col0\" >0.801364</td>\n",
       "      <td id=\"T_33b70_row4_col1\" class=\"data row4 col1\" >0.945952</td>\n",
       "      <td id=\"T_33b70_row4_col2\" class=\"data row4 col2\" >0.960231</td>\n",
       "    </tr>\n",
       "  </tbody>\n",
       "</table>\n"
      ],
      "text/plain": [
       "<pandas.io.formats.style.Styler at 0x1b59a75cbe0>"
      ]
     },
     "execution_count": 89,
     "metadata": {},
     "output_type": "execute_result"
    }
   ],
   "source": [
    "initialized_data_ckpmf = {'train_loss': [ckpmf_model.train_loss],\n",
    "                          'val_loss': [ckpmf_model.val_loss],\n",
    "                          'test_loss': [pred_loss_ckpmf]}\n",
    "df_errors_all = pd.concat([df_errors_kpmf, pd.DataFrame(initialized_data_ckpmf, index=['cKPMF'])])     \n",
    "df_errors_all.style.set_caption(\"Greške KPMF i cKPMF modela\")"
   ]
  },
  {
   "cell_type": "markdown",
   "id": "c4d5f2da",
   "metadata": {},
   "source": [
    "### Analiza rezultata cKPMF modela i poređenje sa rezultatima KPMF modela"
   ]
  },
  {
   "cell_type": "markdown",
   "id": "cfcc80f4",
   "metadata": {},
   "source": [
    "<div style=\"text-align: justify\">  Na osnovu grafika kretanja greške cKPMF modela možemo zaključiti da je model stabilan, odnosno greške na skupu za trening i validaciju se prate i obje opadaju. Kod ovog modela nemamo nagli pad greške nakon malog broja epoha, već greška ravnomjerno opada po epohama. Iz prethodne tabele grešaka vidimo da cKMPF model ima malo veću grešku na skupu za trening i test od najboljeg KPMF modela (RBF model), a greška na skupu za validaciju im je približno ista. \n",
    "Kako je najbolji model u klasi KPMF modela (RBF model) veoma spor za obučavanje, preporučuje se cKPMF model. \n",
    "Iz tabela predikcija cKPMF modela vidimo da u većini slučajeva nema mnogo odstupanja između predikcija modela i stvarnih vrijednosti rejtinga. O pouzdanosti rezultata svjedoči mala greška na test skupu koja se ne razlikuje mnogo od greške na trening skupu. <br> \n",
    "</div>"
   ]
  },
  {
   "cell_type": "markdown",
   "id": "fa8173d5",
   "metadata": {},
   "source": [
    "### Zaključak"
   ]
  },
  {
   "cell_type": "markdown",
   "id": "e953932b",
   "metadata": {},
   "source": [
    "<div style=\"text-align: justify\">\n",
    "Konačan zaključak projekta jeste da uprkos većoj teorijskoj i implementacijskoj zahtjevnosti, rezultati cKPMF modela su približno isti kao rezultati RBF i Difuzionog KPMF modela koji su se u klasi KPMF modela pokazali kao najbolji, a vremenska zahtjevnost im je ista. Zaključujemo da se nametanje dodatnih uslova na latentnu matricu korisnika <em>U</em> u metodi cKPMF pokazalo veoma efikasnim za naš problem. <br>\n",
    "Iz svega priloženog preporučuje se korišćenje metode cKPMF za predikciju rejtinga ukoliko su dostupne dodatne informacije o tagovima (žanrovima muzike) koje su korisnici dodijelili slušanim izvođačima. Sa druge strane, ukoliko nam je poznata i informacija o društvenoj mreži korisnika, onda je najbolje koristiti KPMF model sa RBF kernelom. Bilo bi nadalje zanimljivo istražiti kako bi se ponašao cKPMF model ukoliko bismo ga modifikovali tako da se u njega ugradi i informacija o društvenoj mreži korisnika, a ne samo informacija o dodijeljenim tagovima (žanrovima muzike).\n",
    "</div>"
   ]
  }
 ],
 "metadata": {
  "kernelspec": {
   "display_name": "Python 3 (ipykernel)",
   "language": "python",
   "name": "python3"
  },
  "language_info": {
   "codemirror_mode": {
    "name": "ipython",
    "version": 3
   },
   "file_extension": ".py",
   "mimetype": "text/x-python",
   "name": "python",
   "nbconvert_exporter": "python",
   "pygments_lexer": "ipython3",
   "version": "3.9.7"
  }
 },
 "nbformat": 4,
 "nbformat_minor": 5
}
